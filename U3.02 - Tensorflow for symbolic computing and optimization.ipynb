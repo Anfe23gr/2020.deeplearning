{
 "cells": [
  {
   "cell_type": "code",
   "execution_count": null,
   "metadata": {},
   "outputs": [],
   "source": [
    "!wget --no-cache -O init.py -q https://raw.githubusercontent.com/jdariasl/DiplomadoEPM_2019/master/Modulo3/init.py\n",
    "from init import init; init(force_download=False)"
   ]
  },
  {
   "cell_type": "code",
   "execution_count": 1,
   "metadata": {},
   "outputs": [
    {
     "data": {
      "text/plain": [
       "'2.1.0'"
      ]
     },
     "execution_count": 1,
     "metadata": {},
     "output_type": "execute_result"
    }
   ],
   "source": [
    "try:\n",
    "    %tensorflow_version 2.x\n",
    "    print (\"Using TF2 in Google Colab\")\n",
    "except:\n",
    "    pass\n",
    "import numpy as np\n",
    "import tensorflow as tf\n",
    "import matplotlib.pyplot as plt\n",
    "import pandas as pd\n",
    "%matplotlib inline\n",
    "%load_ext tensorboard\n",
    "\n",
    "from sklearn.datasets import *\n",
    "from local.lib import mlutils\n",
    "tf.__version__"
   ]
  },
  {
   "cell_type": "markdown",
   "metadata": {},
   "source": [
    "## TF is a symbolic computing + optimization library for machine learning problems\n",
    "\n",
    "ML expressions involve:\n",
    "\n",
    "- variables representing data as n-dimensional objects\n",
    "- variables representing parameters as n-dimensional objects\n",
    "- mostly matrix operations (multiplications, convolutions, etc.)\n",
    "- some non linear operations (activation functions)\n",
    "\n",
    "\n",
    "**Recall** that in `sympy` we **FIRST** define expressions (a computational graph) and **THEN** we evaluate them feed concrete values.\n",
    "\n",
    "Tensorflow **INTEGRATES** both aspects so that building computational graphs **LOOKS LIKE** writing regular Pytohn code as must as possible.\n",
    "\n",
    "- a `tf.Variable` represents a **symbolic** variable, that **contains a value**"
   ]
  },
  {
   "cell_type": "code",
   "execution_count": 2,
   "metadata": {},
   "outputs": [
    {
     "data": {
      "text/plain": [
       "<tf.Tensor: shape=(1,), dtype=float32, numpy=array([778.], dtype=float32)>"
      ]
     },
     "execution_count": 2,
     "metadata": {},
     "output_type": "execute_result"
    }
   ],
   "source": [
    "x = tf.Variable(initial_value=[7], name=\"x\", dtype=tf.float32)\n",
    "y = tf.Variable(initial_value=[9], name=\"y\", dtype=tf.float32)\n",
    "f = x**2+y**3\n",
    "f"
   ]
  },
  {
   "cell_type": "markdown",
   "metadata": {},
   "source": [
    "for which TF can obtain gradients automatically"
   ]
  },
  {
   "cell_type": "code",
   "execution_count": 3,
   "metadata": {},
   "outputs": [
    {
     "name": "stdout",
     "output_type": "stream",
     "text": [
      "tf.Tensor([14.], shape=(1,), dtype=float32) tf.Tensor([243.], shape=(1,), dtype=float32)\n"
     ]
    }
   ],
   "source": [
    "with tf.GradientTape(persistent=True) as t:\n",
    "    f = x**2 + y**3\n",
    "    \n",
    "print (t.gradient(f, x), t.gradient(f, y))\n",
    "    "
   ]
  },
  {
   "cell_type": "markdown",
   "metadata": {},
   "source": [
    "usually expressions are built within functions decorated with `@tf.function` for performance"
   ]
  },
  {
   "cell_type": "code",
   "execution_count": 4,
   "metadata": {},
   "outputs": [],
   "source": [
    "@tf.function\n",
    "def myf(x,y):\n",
    "    return x**2 + y**3"
   ]
  },
  {
   "cell_type": "code",
   "execution_count": 5,
   "metadata": {},
   "outputs": [
    {
     "name": "stdout",
     "output_type": "stream",
     "text": [
      "tf.Tensor([14.], shape=(1,), dtype=float32) tf.Tensor([243.], shape=(1,), dtype=float32)\n"
     ]
    }
   ],
   "source": [
    "with tf.GradientTape(persistent=True) as t:\n",
    "    f = myf(x,y)\n",
    "    \n",
    "print (t.gradient(f, x), t.gradient(f, y))\n"
   ]
  },
  {
   "cell_type": "code",
   "execution_count": 6,
   "metadata": {},
   "outputs": [
    {
     "name": "stdout",
     "output_type": "stream",
     "text": [
      "<tensorflow.python.eager.def_function.Function object at 0x10ceb4fd0>\n"
     ]
    }
   ],
   "source": [
    "!rm -rf logs\n",
    "mlutils.make_graph(myf, x, y, logdir=\"logs\")\n"
   ]
  },
  {
   "cell_type": "code",
   "execution_count": 7,
   "metadata": {},
   "outputs": [
    {
     "data": {
      "text/html": [
       "\n",
       "      <iframe id=\"tensorboard-frame-8b3db7ce51b5b15\" width=\"100%\" height=\"800\" frameborder=\"0\">\n",
       "      </iframe>\n",
       "      <script>\n",
       "        (function() {\n",
       "          const frame = document.getElementById(\"tensorboard-frame-8b3db7ce51b5b15\");\n",
       "          const url = new URL(\"/\", window.location);\n",
       "          url.port = 6009;\n",
       "          frame.src = url;\n",
       "        })();\n",
       "      </script>\n",
       "  "
      ],
      "text/plain": [
       "<IPython.core.display.HTML object>"
      ]
     },
     "metadata": {},
     "output_type": "display_data"
    }
   ],
   "source": [
    "%tensorboard --logdir logs"
   ]
  },
  {
   "cell_type": "markdown",
   "metadata": {},
   "source": [
    "## Implementing linear regresion in TF\n"
   ]
  },
  {
   "cell_type": "code",
   "execution_count": 7,
   "metadata": {},
   "outputs": [
    {
     "name": "stdout",
     "output_type": "stream",
     "text": [
      "(150, 1) (150,)\n"
     ]
    },
    {
     "data": {
      "image/png": "[encoded data removed]",
      "text/plain": [
       "<Figure size 432x288 with 1 Axes>"
      ]
     },
     "metadata": {
      "needs_background": "light"
     },
     "output_type": "display_data"
    }
   ],
   "source": [
    "d = pd.read_csv(\"local/data/trilotropicos.csv\")\n",
    "y = d.densidad_escamas.values.astype(np.float32)\n",
    "X = np.r_[[d.longitud.values]].T.astype(np.float32)\n",
    "\n",
    "print(X.shape, y.shape)\n",
    "plt.scatter(d.longitud, d.densidad_escamas)\n",
    "plt.xlabel(d.columns[0])\n",
    "plt.ylabel(d.columns[1]);"
   ]
  },
  {
   "cell_type": "markdown",
   "metadata": {},
   "source": [
    " ## Version 1: raw low level with gradient descent\n",
    " \n",
    "- beware of typing. `tensorflow` is very sensitive to numeric data types (`tf.float32`, `tf.float64`, etc.) Default types in `numpy` and `tensorflow` might not always be the same"
   ]
  },
  {
   "cell_type": "code",
   "execution_count": 8,
   "metadata": {},
   "outputs": [
    {
     "name": "stderr",
     "output_type": "stream",
     "text": [
      "100% (4000 of 4000) |####################| Elapsed Time: 0:00:04 Time:  0:00:04\n"
     ]
    },
    {
     "name": "stdout",
     "output_type": "stream",
     "text": [
      "[12.677126] [[-0.71553004]]\n"
     ]
    }
   ],
   "source": [
    "from progressbar import progressbar as pbar\n",
    "\n",
    "epochs = 4000\n",
    "learning_rate = 0.01\n",
    "\n",
    "# symbolic variables\n",
    "w = tf.Variable(np.random.normal(size=(X.shape[-1], 1), scale=.6), dtype=tf.float32)\n",
    "b = tf.Variable(np.random.normal(size=(1,), scale=.6), dtype=tf.float32)\n",
    "h = []\n",
    "\n",
    "#optimization loop\n",
    "for epoch in pbar(range(epochs)):\n",
    "    with tf.GradientTape() as t:\n",
    "        preds = tf.matmul(X,w)+b\n",
    "        loss = tf.reduce_mean( (preds-y.reshape(-1,1))**2)\n",
    "        \n",
    "    gw, gb = t.gradient(loss, [w, b])\n",
    "    \n",
    "    w.assign_sub(learning_rate * gw)\n",
    "    b.assign_sub(learning_rate * gb)\n",
    "    \n",
    "    h.append([gw.numpy()[0][0], gb.numpy()[0], w.numpy()[0][0], b.numpy()[0], loss.numpy()])\n",
    "h = np.r_[h]\n",
    "print (b.numpy(), w.numpy())"
   ]
  },
  {
   "cell_type": "code",
   "execution_count": 9,
   "metadata": {},
   "outputs": [
    {
     "data": {
      "text/plain": [
       "(0, 50)"
      ]
     },
     "execution_count": 9,
     "metadata": {},
     "output_type": "execute_result"
    },
    {
     "data": {
      "image/png": "[encoded data removed]",
      "text/plain": [
       "<Figure size 1080x144 with 1 Axes>"
      ]
     },
     "metadata": {
      "needs_background": "light"
     },
     "output_type": "display_data"
    }
   ],
   "source": [
    "rmse = tf.reduce_mean((tf.matmul(X,w)+b-y)**2).numpy()\n",
    "plt.figure(figsize=(15,2));\n",
    "plt.plot(h[:,-1]); plt.xlabel(\"step number\"); plt.ylabel(\"loss\"); plt.grid();\n",
    "plt.title(\"RMSE %.3f\"%rmse);\n",
    "plt.ylim(0,50)"
   ]
  },
  {
   "cell_type": "markdown",
   "metadata": {},
   "source": [
    "## Version 2: using `tf.function`"
   ]
  },
  {
   "cell_type": "code",
   "execution_count": 10,
   "metadata": {},
   "outputs": [
    {
     "name": "stderr",
     "output_type": "stream",
     "text": [
      "100% (4000 of 4000) |####################| Elapsed Time: 0:00:02 Time:  0:00:02\n"
     ]
    },
    {
     "name": "stdout",
     "output_type": "stream",
     "text": [
      "[12.677609] [[-0.715625]]\n"
     ]
    }
   ],
   "source": [
    "epochs = 4000\n",
    "\n",
    "# initialize weights\n",
    "w.assign(np.random.normal(size=(X.shape[-1],1)).astype(np.float32)*.6) \n",
    "b.assign(np.random.normal(size=(1,)).astype(np.float32))\n",
    "\n",
    "@tf.function\n",
    "def get_gradient(w, b, X, y):\n",
    "    with tf.GradientTape() as t:\n",
    "        preds = tf.matmul(X,w)+b\n",
    "        loss = tf.reduce_mean( (preds-y)**2)\n",
    "        \n",
    "    gw, gb = t.gradient(loss, [w, b])\n",
    "    return gw, gb, loss\n",
    "\n",
    "#optimization loop\n",
    "h = []\n",
    "for epoch in pbar(range(epochs)):\n",
    "        \n",
    "    gw, gb, loss = get_gradient(w, b, X, y.reshape(-1,1))\n",
    "    \n",
    "    w.assign_sub(learning_rate * gw)\n",
    "    b.assign_sub(learning_rate * gb)\n",
    "\n",
    "    h.append([gw.numpy()[0][0], gb.numpy()[0], w.numpy()[0][0], b.numpy()[0], loss.numpy()])\n",
    "h = np.r_[h]\n",
    "\n",
    "print (b.numpy(), w.numpy())"
   ]
  },
  {
   "cell_type": "code",
   "execution_count": 11,
   "metadata": {},
   "outputs": [
    {
     "data": {
      "text/plain": [
       "(0, 50)"
      ]
     },
     "execution_count": 11,
     "metadata": {},
     "output_type": "execute_result"
    },
    {
     "data": {
      "image/png": "[encoded data removed]",
      "text/plain": [
       "<Figure size 1080x144 with 1 Axes>"
      ]
     },
     "metadata": {
      "needs_background": "light"
     },
     "output_type": "display_data"
    }
   ],
   "source": [
    "predictions = tf.matmul(X,w)+b\n",
    "\n",
    "rmse = tf.reduce_mean((predictions-y)**2).numpy()\n",
    "plt.figure(figsize=(15,2));\n",
    "plt.plot(h[:,-1]); plt.xlabel(\"step number\"); plt.ylabel(\"loss\"); plt.grid();\n",
    "plt.title(\"RMSE %.3f\"%rmse);\n",
    "plt.ylim(0,50)"
   ]
  },
  {
   "cell_type": "markdown",
   "metadata": {},
   "source": [
    "## Version 3: using batches with random shuffling (stochastic gradient descent)\n",
    "\n",
    "notice we tune the number of epochs as the number of weights updates increases"
   ]
  },
  {
   "cell_type": "code",
   "execution_count": 12,
   "metadata": {},
   "outputs": [
    {
     "name": "stderr",
     "output_type": "stream",
     "text": [
      "100% (400 of 400) |######################| Elapsed Time: 0:00:02 Time:  0:00:02\n"
     ]
    },
    {
     "name": "stdout",
     "output_type": "stream",
     "text": [
      "[12.665253] [[-0.64112276]]\n"
     ]
    }
   ],
   "source": [
    "#optimization loop\n",
    "batch_size = 16\n",
    "epochs = 400\n",
    "\n",
    "# initialize weights\n",
    "w.assign(np.random.normal(size=(X.shape[-1],1))*.6) \n",
    "b.assign(np.random.normal(size=(1,)))\n",
    "\n",
    "h = []\n",
    "\n",
    "for epoch in pbar(range(epochs)):\n",
    "    \n",
    "    idxs = np.random.permutation(len(X))\n",
    "    \n",
    "    for step in range(len(X)//batch_size+((len(X)%batch_size)!=0)):\n",
    "        \n",
    "        X_batch = X[idxs][step*batch_size:(step+1)*batch_size]\n",
    "        y_batch = y[idxs][step*batch_size:(step+1)*batch_size]\n",
    "        \n",
    "        gw, gb, loss = get_gradient(w, b, X_batch, y_batch.reshape(-1,1))\n",
    "\n",
    "        w.assign_sub(learning_rate * gw)\n",
    "        b.assign_sub(learning_rate * gb)\n",
    "        \n",
    "        h.append([gw.numpy()[0][0], gb.numpy()[0], w.numpy()[0][0], b.numpy()[0], loss.numpy()])\n",
    "h = np.r_[h]\n",
    "print (b.numpy(), w.numpy())"
   ]
  },
  {
   "cell_type": "code",
   "execution_count": 13,
   "metadata": {},
   "outputs": [
    {
     "data": {
      "text/plain": [
       "(0, 50)"
      ]
     },
     "execution_count": 13,
     "metadata": {},
     "output_type": "execute_result"
    },
    {
     "data": {
      "image/png": "[encoded data removed]",
      "text/plain": [
       "<Figure size 1080x144 with 1 Axes>"
      ]
     },
     "metadata": {
      "needs_background": "light"
     },
     "output_type": "display_data"
    }
   ],
   "source": [
    "predictions = tf.matmul(X,w)+b\n",
    "\n",
    "rmse = tf.reduce_mean((predictions-y)**2).numpy()\n",
    "plt.figure(figsize=(15,2));\n",
    "plt.plot(h[:,-1]); plt.xlabel(\"step number\"); plt.ylabel(\"loss\"); plt.grid();\n",
    "plt.title(\"RMSE %.3f\"%rmse);\n",
    "plt.ylim(0,50)"
   ]
  },
  {
   "cell_type": "markdown",
   "metadata": {},
   "source": [
    "## Version 4: packing up with Keras `class` API  and custom SGD\n",
    "\n",
    "observe:\n",
    "\n",
    "- the`build` method that is called by Keras whenever `input_shape` is known\n",
    "- we use `add_weight` so that our model weights are known to the Keras model framework (`trainable_variables`, `get_weights`, etc.) \n",
    "\n",
    "see [here](https://www.tensorflow.org/guide/keras/custom_layers_and_models)"
   ]
  },
  {
   "cell_type": "code",
   "execution_count": 14,
   "metadata": {},
   "outputs": [],
   "source": [
    "class LinearRegression(tf.keras.Model):\n",
    "    \n",
    "    def build(self, input_shape):\n",
    "        self.w = self.add_weight(shape=(input_shape[-1], 1), initializer='random_normal',\n",
    "                                 trainable=True, dtype=tf.float32)\n",
    "        \n",
    "        self.b = self.add_weight(shape=(1,), initializer='random_normal',\n",
    "                                 trainable=True, dtype=tf.float32)\n",
    "        \n",
    "    def call(self, inputs):\n",
    "        return tf.matmul(inputs, self.w) + self.b\n",
    "    \n",
    "    @tf.function\n",
    "    def get_gradient(self, X, y):\n",
    "        with tf.GradientTape() as t:\n",
    "            loss = tf.reduce_mean( (self(X)-y)**2)\n",
    "\n",
    "        gw, gb = t.gradient(loss, [self.w, self.b])\n",
    "        return gw, gb, loss\n",
    "\n",
    "    def fit(self, X,y, epochs, batch_size=16, learning_rate=0.01):\n",
    "        y = y.reshape(-1,1)\n",
    "        self.h=[]\n",
    "        for epoch in pbar(range(epochs)):\n",
    "            idxs = np.random.permutation(len(X))\n",
    "            for step in range(len(X)//batch_size+((len(X)%batch_size)!=0)):\n",
    "                X_batch = X[idxs][step*batch_size:(step+1)*batch_size]\n",
    "                y_batch = y[idxs][step*batch_size:(step+1)*batch_size]            \n",
    "\n",
    "                gw, gb, loss = self.get_gradient(X_batch,y_batch)\n",
    "                self.w.assign_sub(learning_rate * gw)\n",
    "                self.b.assign_sub(learning_rate * gb)\n",
    "                self.h.append([gw.numpy()[0][0], gb.numpy()[0], w.numpy()[0][0], b.numpy()[0], loss.numpy()])\n",
    "        self.h = np.r_[self.h]\n"
   ]
  },
  {
   "cell_type": "code",
   "execution_count": 15,
   "metadata": {},
   "outputs": [],
   "source": [
    "lr = LinearRegression()"
   ]
  },
  {
   "cell_type": "markdown",
   "metadata": {},
   "source": [
    "observe that we can use the object directly on data to get predictions"
   ]
  },
  {
   "cell_type": "code",
   "execution_count": 16,
   "metadata": {},
   "outputs": [
    {
     "data": {
      "text/plain": [
       "<tf.Tensor: shape=(2, 1), dtype=float32, numpy=\n",
       "array([[-0.10099187],\n",
       "       [-0.08578584]], dtype=float32)>"
      ]
     },
     "execution_count": 16,
     "metadata": {},
     "output_type": "execute_result"
    }
   ],
   "source": [
    "lr(X[:2])"
   ]
  },
  {
   "cell_type": "markdown",
   "metadata": {},
   "source": [
    "or with the  `.predict` method"
   ]
  },
  {
   "cell_type": "code",
   "execution_count": 17,
   "metadata": {},
   "outputs": [
    {
     "data": {
      "text/plain": [
       "array([[-0.10099187],\n",
       "       [-0.08578584]], dtype=float32)"
      ]
     },
     "execution_count": 17,
     "metadata": {},
     "output_type": "execute_result"
    }
   ],
   "source": [
    "lr.predict(X[:2])"
   ]
  },
  {
   "cell_type": "code",
   "execution_count": 18,
   "metadata": {},
   "outputs": [
    {
     "data": {
      "text/plain": [
       "[<tf.Variable 'linear_regression/Variable:0' shape=(1, 1) dtype=float32, numpy=array([[-0.00914588]], dtype=float32)>,\n",
       " <tf.Variable 'linear_regression/Variable:0' shape=(1,) dtype=float32, numpy=array([-0.06608025], dtype=float32)>]"
      ]
     },
     "execution_count": 18,
     "metadata": {},
     "output_type": "execute_result"
    }
   ],
   "source": [
    "lr.trainable_variables"
   ]
  },
  {
   "cell_type": "code",
   "execution_count": 19,
   "metadata": {},
   "outputs": [
    {
     "data": {
      "text/plain": [
       "[array([[-0.00914588]], dtype=float32), array([-0.06608025], dtype=float32)]"
      ]
     },
     "execution_count": 19,
     "metadata": {},
     "output_type": "execute_result"
    }
   ],
   "source": [
    "lr.get_weights()"
   ]
  },
  {
   "cell_type": "markdown",
   "metadata": {},
   "source": [
    "and fit the model"
   ]
  },
  {
   "cell_type": "code",
   "execution_count": 20,
   "metadata": {},
   "outputs": [
    {
     "name": "stderr",
     "output_type": "stream",
     "text": [
      "100% (400 of 400) |######################| Elapsed Time: 0:00:02 Time:  0:00:02\n"
     ]
    }
   ],
   "source": [
    "lr.fit(X, y, epochs=400, batch_size=16)"
   ]
  },
  {
   "cell_type": "code",
   "execution_count": 21,
   "metadata": {},
   "outputs": [
    {
     "data": {
      "text/plain": [
       "(array([12.654232], dtype=float32), array([[-0.76056874]], dtype=float32))"
      ]
     },
     "execution_count": 21,
     "metadata": {},
     "output_type": "execute_result"
    }
   ],
   "source": [
    "lr.b.numpy(), lr.w.numpy()"
   ]
  },
  {
   "cell_type": "code",
   "execution_count": 22,
   "metadata": {},
   "outputs": [
    {
     "data": {
      "text/plain": [
       "(0, 50)"
      ]
     },
     "execution_count": 22,
     "metadata": {},
     "output_type": "execute_result"
    },
    {
     "data": {
      "image/png": "[encoded data removed]",
      "text/plain": [
       "<Figure size 1080x144 with 1 Axes>"
      ]
     },
     "metadata": {
      "needs_background": "light"
     },
     "output_type": "display_data"
    }
   ],
   "source": [
    "predictions = lr(X)\n",
    "\n",
    "rmse = tf.reduce_mean((predictions-y)**2).numpy()\n",
    "plt.figure(figsize=(15,2));\n",
    "plt.plot(lr.h[:,-1]); plt.xlabel(\"step number\"); plt.ylabel(\"loss\"); plt.grid();\n",
    "plt.title(\"RMSE %.3f\"%rmse);\n",
    "plt.ylim(0,50)"
   ]
  },
  {
   "cell_type": "markdown",
   "metadata": {},
   "source": [
    "## Version 5: Sequential Keras model with standard loop"
   ]
  },
  {
   "cell_type": "code",
   "execution_count": 23,
   "metadata": {},
   "outputs": [],
   "source": [
    "from tensorflow.keras import Sequential\n",
    "from tensorflow.keras.layers import Dense\n",
    "    \n",
    "def get_model():\n",
    "    model = Sequential()\n",
    "    model.add(Dense(1, input_shape=(X.shape[-1],), activation=\"linear\"))\n",
    "    model.compile(optimizer=tf.keras.optimizers.SGD(learning_rate=0.01), \n",
    "                  loss=\"mse\")\n",
    "    return model"
   ]
  },
  {
   "cell_type": "code",
   "execution_count": 24,
   "metadata": {},
   "outputs": [
    {
     "data": {
      "text/plain": [
       "[<tf.Variable 'dense/kernel:0' shape=(1, 1) dtype=float32, numpy=array([[-0.8078564]], dtype=float32)>,\n",
       " <tf.Variable 'dense/bias:0' shape=(1,) dtype=float32, numpy=array([12.645793], dtype=float32)>]"
      ]
     },
     "execution_count": 24,
     "metadata": {},
     "output_type": "execute_result"
    }
   ],
   "source": [
    "model = get_model()\n",
    "model.fit(X,y, epochs=400, batch_size=16, verbose=0)\n",
    "model.weights"
   ]
  },
  {
   "cell_type": "markdown",
   "metadata": {},
   "source": [
    "history is now logged only per epoch"
   ]
  },
  {
   "cell_type": "code",
   "execution_count": 25,
   "metadata": {},
   "outputs": [
    {
     "data": {
      "image/png": "[encoded data removed]",
      "text/plain": [
       "<Figure size 1080x144 with 1 Axes>"
      ]
     },
     "metadata": {
      "needs_background": "light"
     },
     "output_type": "display_data"
    }
   ],
   "source": [
    "predictions = model(X)\n",
    "\n",
    "rmse = tf.reduce_mean((predictions-y)**2).numpy()\n",
    "plt.figure(figsize=(15,2));\n",
    "plt.plot(model.history.history[\"loss\"]); plt.xlabel(\"step number\"); plt.ylabel(\"loss\"); plt.grid();\n",
    "plt.title(\"RMSE %.3f\"%rmse);"
   ]
  },
  {
   "cell_type": "markdown",
   "metadata": {},
   "source": [
    "## Version 6: Model with Keras `class` API  and standard loop"
   ]
  },
  {
   "cell_type": "code",
   "execution_count": 26,
   "metadata": {},
   "outputs": [],
   "source": [
    "class LinearRegression(tf.keras.Model):\n",
    "    \n",
    "    def build(self, input_shape):\n",
    "        self.w = self.add_weight(shape=(input_shape[-1], 1),\n",
    "                                 initializer='random_normal',\n",
    "                                 trainable=True)\n",
    "        \n",
    "        self.b = self.add_weight(shape=(1,),\n",
    "                                 initializer='random_normal',\n",
    "                                 trainable=True)\n",
    "        \n",
    "    def call(self, inputs):\n",
    "        return tf.matmul(inputs, self.w) + self.b\n"
   ]
  },
  {
   "cell_type": "code",
   "execution_count": 27,
   "metadata": {},
   "outputs": [
    {
     "data": {
      "text/plain": [
       "<tensorflow.python.keras.callbacks.History at 0x14c271080>"
      ]
     },
     "execution_count": 27,
     "metadata": {},
     "output_type": "execute_result"
    }
   ],
   "source": [
    "lr = LinearRegression()\n",
    "lr.compile(optimizer=tf.keras.optimizers.SGD(learning_rate=0.01), \n",
    "           loss=\"mse\")\n",
    "lr.fit(X,y, epochs=400, batch_size=16, verbose=0)"
   ]
  },
  {
   "cell_type": "code",
   "execution_count": 28,
   "metadata": {},
   "outputs": [
    {
     "data": {
      "text/plain": [
       "(array([12.650702], dtype=float32), array([-0.66346943], dtype=float32))"
      ]
     },
     "execution_count": 28,
     "metadata": {},
     "output_type": "execute_result"
    }
   ],
   "source": [
    "lr.b.numpy(), lr.w.numpy()[0]\n"
   ]
  },
  {
   "cell_type": "code",
   "execution_count": 29,
   "metadata": {},
   "outputs": [
    {
     "data": {
      "image/png": "[encoded data removed]",
      "text/plain": [
       "<Figure size 1080x144 with 1 Axes>"
      ]
     },
     "metadata": {
      "needs_background": "light"
     },
     "output_type": "display_data"
    }
   ],
   "source": [
    "predictions = lr(X)\n",
    "\n",
    "rmse = tf.reduce_mean((predictions-y)**2).numpy()\n",
    "plt.figure(figsize=(15,2));\n",
    "plt.plot(model.history.history[\"loss\"]); plt.xlabel(\"step number\"); plt.ylabel(\"loss\"); plt.grid();\n",
    "plt.title(\"RMSE %.3f\"%rmse);"
   ]
  },
  {
   "cell_type": "markdown",
   "metadata": {},
   "source": [
    "## Version 7: Keras sequential model with custom loop but using model loss + optimizer\n",
    "\n",
    "observe how we use the loss functions and `optimizer.apply_gradients`"
   ]
  },
  {
   "cell_type": "code",
   "execution_count": 30,
   "metadata": {},
   "outputs": [],
   "source": [
    "from tensorflow.keras import Sequential\n",
    "from tensorflow.keras.layers import Dense\n",
    "    \n",
    "def get_model():\n",
    "    model = Sequential()\n",
    "    model.add(Dense(1, input_shape=(X.shape[-1],), activation=\"linear\"))\n",
    "    model.compile(optimizer=tf.keras.optimizers.SGD(learning_rate=0.01), \n",
    "                  loss=\"mse\")\n",
    "    return model"
   ]
  },
  {
   "cell_type": "markdown",
   "metadata": {},
   "source": [
    "our custom loop (**for any model** !!!)"
   ]
  },
  {
   "cell_type": "code",
   "execution_count": 31,
   "metadata": {},
   "outputs": [],
   "source": [
    "epochs = 400\n",
    "batch_size = 16\n",
    "\n",
    "model = get_model()\n",
    "loss = model.loss_functions[0].fn\n",
    "optimizer = model.optimizer"
   ]
  },
  {
   "cell_type": "code",
   "execution_count": 32,
   "metadata": {},
   "outputs": [
    {
     "data": {
      "text/plain": [
       "[<tf.Variable 'dense_1/kernel:0' shape=(1, 1) dtype=float32, numpy=array([[1.684595]], dtype=float32)>,\n",
       " <tf.Variable 'dense_1/bias:0' shape=(1,) dtype=float32, numpy=array([0.], dtype=float32)>]"
      ]
     },
     "execution_count": 32,
     "metadata": {},
     "output_type": "execute_result"
    }
   ],
   "source": [
    "model.weights"
   ]
  },
  {
   "cell_type": "code",
   "execution_count": 33,
   "metadata": {},
   "outputs": [
    {
     "data": {
      "text/plain": [
       "[<tf.Variable 'dense_1/kernel:0' shape=(1, 1) dtype=float32, numpy=array([[1.684595]], dtype=float32)>,\n",
       " <tf.Variable 'dense_1/bias:0' shape=(1,) dtype=float32, numpy=array([0.], dtype=float32)>]"
      ]
     },
     "execution_count": 33,
     "metadata": {},
     "output_type": "execute_result"
    }
   ],
   "source": [
    "model.trainable_variables"
   ]
  },
  {
   "cell_type": "code",
   "execution_count": 34,
   "metadata": {},
   "outputs": [
    {
     "name": "stderr",
     "output_type": "stream",
     "text": [
      "100% (400 of 400) |######################| Elapsed Time: 0:00:01 Time:  0:00:01\n"
     ]
    }
   ],
   "source": [
    "@tf.function\n",
    "def train_step(X,y):\n",
    "    with tf.GradientTape() as tape:\n",
    "        loss_value = tf.reduce_mean(loss(model(X), y))\n",
    "    grads = tape.gradient(loss_value, model.trainable_variables)\n",
    "\n",
    "    optimizer.apply_gradients(zip(grads, model.trainable_variables))\n",
    "    return loss_value\n",
    "\n",
    "h = []\n",
    "for epoch in pbar(range(epochs)):\n",
    "    idxs = np.random.permutation(len(X))\n",
    "    for step in range(len(X)//batch_size+((len(X)%batch_size)!=0)):\n",
    "        X_batch = X[idxs][step*batch_size:(step+1)*batch_size]\n",
    "        y_batch = y[idxs][step*batch_size:(step+1)*batch_size]       \n",
    "        loss_value = train_step(X_batch, y_batch)\n",
    "    h.append(loss_value)"
   ]
  },
  {
   "cell_type": "code",
   "execution_count": 36,
   "metadata": {},
   "outputs": [
    {
     "data": {
      "text/plain": [
       "[<tf.Variable 'dense_1/kernel:0' shape=(1, 1) dtype=float32, numpy=array([[0.00627602]], dtype=float32)>,\n",
       " <tf.Variable 'dense_1/bias:0' shape=(1,) dtype=float32, numpy=array([9.589727], dtype=float32)>]"
      ]
     },
     "execution_count": 36,
     "metadata": {},
     "output_type": "execute_result"
    }
   ],
   "source": [
    "model.weights"
   ]
  },
  {
   "cell_type": "code",
   "execution_count": 35,
   "metadata": {},
   "outputs": [
    {
     "data": {
      "text/plain": [
       "(0, 50)"
      ]
     },
     "execution_count": 35,
     "metadata": {},
     "output_type": "execute_result"
    },
    {
     "data": {
      "image/png": "[encoded data removed]",
      "text/plain": [
       "<Figure size 1080x144 with 1 Axes>"
      ]
     },
     "metadata": {
      "needs_background": "light"
     },
     "output_type": "display_data"
    }
   ],
   "source": [
    "predictions = model(X)\n",
    "\n",
    "rmse = tf.reduce_mean((predictions-y)**2).numpy()\n",
    "plt.figure(figsize=(15,2));\n",
    "plt.plot(h); plt.xlabel(\"step number\"); plt.ylabel(\"loss\"); plt.grid();\n",
    "plt.title(\"RMSE %.3f\"%rmse);\n",
    "plt.ylim(0,50)"
   ]
  },
  {
   "cell_type": "markdown",
   "metadata": {},
   "source": [
    "## Version 8: using `train_on_batch`"
   ]
  },
  {
   "cell_type": "code",
   "execution_count": 38,
   "metadata": {},
   "outputs": [
    {
     "name": "stderr",
     "output_type": "stream",
     "text": [
      "100% (400 of 400) |######################| Elapsed Time: 0:00:03 Time:  0:00:03\n"
     ]
    }
   ],
   "source": [
    "h = []\n",
    "for epoch in pbar(range(epochs)):\n",
    "    idxs = np.random.permutation(len(X))\n",
    "    for step in range(len(X)//batch_size+((len(X)%batch_size)!=0)):\n",
    "        X_batch = X[idxs][step*batch_size:(step+1)*batch_size]\n",
    "        y_batch = y[idxs][step*batch_size:(step+1)*batch_size]       \n",
    "        model.train_on_batch(X_batch, y_batch)\n"
   ]
  },
  {
   "cell_type": "code",
   "execution_count": 39,
   "metadata": {},
   "outputs": [
    {
     "ename": "AttributeError",
     "evalue": "'Sequential' object has no attribute 'history'",
     "output_type": "error",
     "traceback": [
      "\u001b[0;31m-----------------------------------------\u001b[0m",
      "\u001b[0;31mAttributeError\u001b[0mTraceback (most recent call last)",
      "\u001b[0;32m<ipython-input-39-7c7b265dc779>\u001b[0m in \u001b[0;36m<module>\u001b[0;34m\u001b[0m\n\u001b[1;32m      3\u001b[0m \u001b[0mrmse\u001b[0m \u001b[0;34m=\u001b[0m \u001b[0mtf\u001b[0m\u001b[0;34m.\u001b[0m\u001b[0mreduce_mean\u001b[0m\u001b[0;34m(\u001b[0m\u001b[0;34m(\u001b[0m\u001b[0mpredictions\u001b[0m\u001b[0;34m-\u001b[0m\u001b[0my\u001b[0m\u001b[0;34m)\u001b[0m\u001b[0;34m**\u001b[0m\u001b[0;36m2\u001b[0m\u001b[0;34m)\u001b[0m\u001b[0;34m.\u001b[0m\u001b[0mnumpy\u001b[0m\u001b[0;34m(\u001b[0m\u001b[0;34m)\u001b[0m\u001b[0;34m\u001b[0m\u001b[0;34m\u001b[0m\u001b[0m\n\u001b[1;32m      4\u001b[0m \u001b[0mplt\u001b[0m\u001b[0;34m.\u001b[0m\u001b[0mfigure\u001b[0m\u001b[0;34m(\u001b[0m\u001b[0mfigsize\u001b[0m\u001b[0;34m=\u001b[0m\u001b[0;34m(\u001b[0m\u001b[0;36m15\u001b[0m\u001b[0;34m,\u001b[0m\u001b[0;36m2\u001b[0m\u001b[0;34m)\u001b[0m\u001b[0;34m)\u001b[0m\u001b[0;34m;\u001b[0m\u001b[0;34m\u001b[0m\u001b[0;34m\u001b[0m\u001b[0m\n\u001b[0;32m----> 5\u001b[0;31m \u001b[0mplt\u001b[0m\u001b[0;34m.\u001b[0m\u001b[0mplot\u001b[0m\u001b[0;34m(\u001b[0m\u001b[0mmodel\u001b[0m\u001b[0;34m.\u001b[0m\u001b[0mhistory\u001b[0m\u001b[0;34m.\u001b[0m\u001b[0mhistory\u001b[0m\u001b[0;34m[\u001b[0m\u001b[0;34m\"loss\"\u001b[0m\u001b[0;34m]\u001b[0m\u001b[0;34m)\u001b[0m\u001b[0;34m;\u001b[0m \u001b[0mplt\u001b[0m\u001b[0;34m.\u001b[0m\u001b[0mxlabel\u001b[0m\u001b[0;34m(\u001b[0m\u001b[0;34m\"step number\"\u001b[0m\u001b[0;34m)\u001b[0m\u001b[0;34m;\u001b[0m \u001b[0mplt\u001b[0m\u001b[0;34m.\u001b[0m\u001b[0mylabel\u001b[0m\u001b[0;34m(\u001b[0m\u001b[0;34m\"loss\"\u001b[0m\u001b[0;34m)\u001b[0m\u001b[0;34m;\u001b[0m \u001b[0mplt\u001b[0m\u001b[0;34m.\u001b[0m\u001b[0mgrid\u001b[0m\u001b[0;34m(\u001b[0m\u001b[0;34m)\u001b[0m\u001b[0;34m;\u001b[0m\u001b[0;34m\u001b[0m\u001b[0;34m\u001b[0m\u001b[0m\n\u001b[0m\u001b[1;32m      6\u001b[0m \u001b[0mplt\u001b[0m\u001b[0;34m.\u001b[0m\u001b[0mtitle\u001b[0m\u001b[0;34m(\u001b[0m\u001b[0;34m\"RMSE %.3f\"\u001b[0m\u001b[0;34m%\u001b[0m\u001b[0mrmse\u001b[0m\u001b[0;34m)\u001b[0m\u001b[0;34m;\u001b[0m\u001b[0;34m\u001b[0m\u001b[0;34m\u001b[0m\u001b[0m\n",
      "\u001b[0;31mAttributeError\u001b[0m: 'Sequential' object has no attribute 'history'"
     ]
    },
    {
     "data": {
      "text/plain": [
       "<Figure size 1080x144 with 0 Axes>"
      ]
     },
     "metadata": {},
     "output_type": "display_data"
    }
   ],
   "source": [
    "predictions = model(X)\n",
    "\n",
    "rmse = tf.reduce_mean((predictions-y)**2).numpy()\n",
    "plt.figure(figsize=(15,2));\n",
    "plt.plot(model.history.history[\"loss\"]); plt.xlabel(\"step number\"); plt.ylabel(\"loss\"); plt.grid();\n",
    "plt.title(\"RMSE %.3f\"%rmse);"
   ]
  },
  {
   "cell_type": "code",
   "execution_count": null,
   "metadata": {},
   "outputs": [],
   "source": [
    "model.lo"
   ]
  }
 ],
 "metadata": {
  "kernelspec": {
   "display_name": "p37",
   "language": "python",
   "name": "p37"
  },
  "language_info": {
   "codemirror_mode": {
    "name": "ipython",
    "version": 3
   },
   "file_extension": ".py",
   "mimetype": "text/x-python",
   "name": "python",
   "nbconvert_exporter": "python",
   "pygments_lexer": "ipython3",
   "version": "3.7.3"
  }
 },
 "nbformat": 4,
 "nbformat_minor": 2
}
