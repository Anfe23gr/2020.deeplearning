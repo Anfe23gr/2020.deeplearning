{
 "cells": [
  {
   "cell_type": "code",
   "execution_count": null,
   "metadata": {},
   "outputs": [],
   "source": [
    "!wget --no-cache -O init.py -q https://raw.githubusercontent.com/jdariasl/DiplomadoEPM_2019/master/Modulo3/init.py\n",
    "from init import init; init(force_download=False)"
   ]
  },
  {
   "cell_type": "code",
   "execution_count": 1,
   "metadata": {},
   "outputs": [
    {
     "data": {
      "text/plain": [
       "'2.1.0'"
      ]
     },
     "execution_count": 1,
     "metadata": {},
     "output_type": "execute_result"
    }
   ],
   "source": [
    "try:\n",
    "    %tensorflow_version 2.x\n",
    "    print (\"Using TF2 in Google Colab\")\n",
    "except:\n",
    "    pass\n",
    "import numpy as np\n",
    "import tensorflow as tf\n",
    "import matplotlib.pyplot as plt\n",
    "import pandas as pd\n",
    "%matplotlib inline\n",
    "%load_ext tensorboard\n",
    "\n",
    "from sklearn.datasets import *\n",
    "from local.lib import mlutils\n",
    "tf.__version__"
   ]
  },
  {
   "cell_type": "markdown",
   "metadata": {},
   "source": [
    "## TF is a symbolic computic + optimization library for machine learning problems\n",
    "\n",
    "ML expressions involve:\n",
    "\n",
    "- variables representing data as n-dimensional objects\n",
    "- variables representing parameters as n-dimensional objects\n",
    "- mostly matrix operations (multiplications, convolutions, etc.)\n",
    "- some non linear operations (activation functions)\n",
    "\n",
    "\n",
    "**Recall** that in `sympy` we **FIRST** define expressions (a computational graph) and **THEN** we evaluate them feed concrete values.\n",
    "\n",
    "Tensorflow **INTEGRATES** both aspects so that building computational graphs **LOOKS LIKE** writing regular Pytohn code as must as possible.\n",
    "\n",
    "- a `tf.Variable` represents a **symbolic** variable, that **contains a value**"
   ]
  },
  {
   "cell_type": "code",
   "execution_count": 2,
   "metadata": {},
   "outputs": [
    {
     "data": {
      "text/plain": [
       "<tf.Tensor: shape=(1,), dtype=float32, numpy=array([778.], dtype=float32)>"
      ]
     },
     "execution_count": 2,
     "metadata": {},
     "output_type": "execute_result"
    }
   ],
   "source": [
    "x = tf.Variable(initial_value=[7], name=\"x\", dtype=tf.float32)\n",
    "y = tf.Variable(initial_value=[9], name=\"y\", dtype=tf.float32)\n",
    "f = x**2+y**3\n",
    "f"
   ]
  },
  {
   "cell_type": "markdown",
   "metadata": {},
   "source": [
    "for which TF can obtain gradients automatically"
   ]
  },
  {
   "cell_type": "code",
   "execution_count": 3,
   "metadata": {},
   "outputs": [
    {
     "name": "stdout",
     "output_type": "stream",
     "text": [
      "tf.Tensor([14.], shape=(1,), dtype=float32) tf.Tensor([243.], shape=(1,), dtype=float32)\n"
     ]
    }
   ],
   "source": [
    "with tf.GradientTape(persistent=True) as t:\n",
    "    f = x**2 + y**3\n",
    "    \n",
    "print (t.gradient(f, x), t.gradient(f, y))\n",
    "    "
   ]
  },
  {
   "cell_type": "markdown",
   "metadata": {},
   "source": [
    "usually expressions are built within functions decorated with `@tf.function` for performance"
   ]
  },
  {
   "cell_type": "code",
   "execution_count": 4,
   "metadata": {},
   "outputs": [],
   "source": [
    "@tf.function\n",
    "def myf(x,y):\n",
    "    return x**2 + y**3"
   ]
  },
  {
   "cell_type": "code",
   "execution_count": 5,
   "metadata": {},
   "outputs": [
    {
     "name": "stdout",
     "output_type": "stream",
     "text": [
      "tf.Tensor([14.], shape=(1,), dtype=float32) tf.Tensor([243.], shape=(1,), dtype=float32)\n"
     ]
    }
   ],
   "source": [
    "with tf.GradientTape(persistent=True) as t:\n",
    "    f = myf(x,y)\n",
    "    \n",
    "print (t.gradient(f, x), t.gradient(f, y))\n"
   ]
  },
  {
   "cell_type": "code",
   "execution_count": 6,
   "metadata": {},
   "outputs": [
    {
     "name": "stdout",
     "output_type": "stream",
     "text": [
      "<tensorflow.python.eager.def_function.Function object at 0x7fabe12a0b50>\n"
     ]
    }
   ],
   "source": [
    "!rm -rf logs\n",
    "mlutils.make_graph(myf, x, y, logdir=\"logs\")\n"
   ]
  },
  {
   "cell_type": "code",
   "execution_count": 7,
   "metadata": {},
   "outputs": [
    {
     "data": {
      "text/plain": [
       "ERROR: Could not find `tensorboard`. Please ensure that your PATH\n",
       "contains an executable `tensorboard` program, or explicitly specify\n",
       "the path to a TensorBoard binary by setting the `TENSORBOARD_BINARY`\n",
       "environment variable."
      ]
     },
     "metadata": {},
     "output_type": "display_data"
    }
   ],
   "source": [
    "%tensorboard --logdir logs"
   ]
  },
  {
   "cell_type": "markdown",
   "metadata": {},
   "source": [
    "## Implementing linear regresion in TF\n"
   ]
  },
  {
   "cell_type": "code",
   "execution_count": 8,
   "metadata": {},
   "outputs": [
    {
     "name": "stdout",
     "output_type": "stream",
     "text": [
      "(150, 1) (150,)\n"
     ]
    },
    {
     "data": {
      "image/png": "[encoded data removed]",
      "text/plain": [
       "<Figure size 432x288 with 1 Axes>"
      ]
     },
     "metadata": {
      "needs_background": "light"
     },
     "output_type": "display_data"
    }
   ],
   "source": [
    "d = pd.read_csv(\"local/data/trilotropicos.csv\")\n",
    "y = d.densidad_escamas.values.astype(np.float32)\n",
    "X = np.r_[[d.longitud.values]].T.astype(np.float32)\n",
    "\n",
    "print(X.shape, y.shape)\n",
    "plt.scatter(d.longitud, d.densidad_escamas)\n",
    "plt.xlabel(d.columns[0])\n",
    "plt.ylabel(d.columns[1]);"
   ]
  },
  {
   "cell_type": "markdown",
   "metadata": {},
   "source": [
    " ## Version 1: raw low level with gradient descent\n",
    " \n",
    "- beware of typing. `tensorflow` is very sensitive to numeric data types (`tf.float32`, `tf.float64`, etc.) Default types in `numpy` and `tensorflow` might not always be the same"
   ]
  },
  {
   "cell_type": "code",
   "execution_count": 9,
   "metadata": {},
   "outputs": [
    {
     "name": "stderr",
     "output_type": "stream",
     "text": [
      "100% (4000 of 4000) |####################| Elapsed Time: 0:00:09 Time:  0:00:09\n"
     ]
    },
    {
     "name": "stdout",
     "output_type": "stream",
     "text": [
      "[12.677155] [[-0.71553564]]\n"
     ]
    }
   ],
   "source": [
    "from progressbar import progressbar as pbar\n",
    "\n",
    "epochs = 4000\n",
    "learning_rate = 0.01\n",
    "\n",
    "# symbolic variables\n",
    "w = tf.Variable(np.random.normal(size=(X.shape[-1], 1), scale=.6), dtype=tf.float32)\n",
    "b = tf.Variable(np.random.normal(size=(1,), scale=.6), dtype=tf.float32)\n",
    "\n",
    "h = []\n",
    "\n",
    "#optimization loop\n",
    "for epoch in pbar(range(epochs)):\n",
    "    with tf.GradientTape() as t:\n",
    "        preds = tf.matmul(X,w)+b\n",
    "        loss = tf.reduce_mean( (preds-y.reshape(-1,1))**2)\n",
    "        \n",
    "    gw, gb = t.gradient(loss, [w, b])\n",
    "    \n",
    "    w.assign_sub(learning_rate * gw)\n",
    "    b.assign_sub(learning_rate * gb)\n",
    "    \n",
    "    h.append([gw.numpy()[0][0], gb.numpy()[0], w.numpy()[0][0], b.numpy()[0], loss.numpy()])\n",
    "h = np.r_[h]\n",
    "print (b.numpy(), w.numpy())"
   ]
  },
  {
   "cell_type": "code",
   "execution_count": 10,
   "metadata": {},
   "outputs": [
    {
     "data": {
      "image/png": "[encoded data removed]",
      "text/plain": [
       "<Figure size 432x288 with 1 Axes>"
      ]
     },
     "metadata": {
      "needs_background": "light"
     },
     "output_type": "display_data"
    }
   ],
   "source": [
    "plt.plot(h[:,-1]); plt.xlabel(\"epoch\"); plt.ylabel(\"loss\"); plt.grid();"
   ]
  },
  {
   "cell_type": "markdown",
   "metadata": {},
   "source": [
    "## Version 2: using `tf.function`"
   ]
  },
  {
   "cell_type": "code",
   "execution_count": 33,
   "metadata": {},
   "outputs": [
    {
     "name": "stderr",
     "output_type": "stream",
     "text": [
      "100% (4000 of 4000) |####################| Elapsed Time: 0:00:03 Time:  0:00:03\n"
     ]
    },
    {
     "name": "stdout",
     "output_type": "stream",
     "text": [
      "[12.686658] [[-0.7174028]]\n"
     ]
    }
   ],
   "source": [
    "@tf.function\n",
    "def get_gradient(X, y):\n",
    "    with tf.GradientTape() as t:\n",
    "        preds = tf.matmul(X,w)+b\n",
    "        loss = tf.reduce_mean( (preds-y)**2)\n",
    "        \n",
    "    gw, gb = t.gradient(loss, [w, b])\n",
    "    return gw, gb\n",
    "\n",
    "#optimization loop\n",
    "for epoch in pbar(range(epochs)):\n",
    "        \n",
    "    gw, gb = get_gradient(X, y.reshape(-1,1))\n",
    "    \n",
    "    w.assign_sub(learning_rate * gw)\n",
    "    b.assign_sub(learning_rate * gb)\n",
    "    \n",
    "print (b.numpy(), w.numpy())"
   ]
  },
  {
   "cell_type": "markdown",
   "metadata": {},
   "source": [
    "## Version 3: packing up following Keras `class` API with custom loop\n",
    "\n",
    "observe:\n",
    "\n",
    "- the`build` method that is called by Keras whenever `input_shape` is known\n",
    "- we use `add_weight` so that our model weights are known to the Keras model framework (`trainable_variables`, `get_weights`, etc.) \n",
    "\n",
    "see [here](https://www.tensorflow.org/guide/keras/custom_layers_and_models)"
   ]
  },
  {
   "cell_type": "code",
   "execution_count": 41,
   "metadata": {},
   "outputs": [],
   "source": [
    "class LinearRegression(tf.keras.Model):\n",
    "    \n",
    "    def build(self, input_shape):\n",
    "        self.w = self.add_weight(shape=(input_shape[-1], 1),\n",
    "                                 initializer='random_normal',\n",
    "                                 trainable=True, dtype=tf.float32)\n",
    "        \n",
    "        self.b = self.add_weight(shape=(1,),\n",
    "                                 initializer='random_normal',\n",
    "                                 trainable=True, dtype=tf.float32)\n",
    "        \n",
    "    def call(self, inputs):\n",
    "        return tf.matmul(inputs, self.w) + self.b\n",
    "    \n",
    "    @tf.function\n",
    "    def get_gradient(self, X, y):\n",
    "        with tf.GradientTape() as t:\n",
    "            loss = tf.reduce_mean( (self(X)-y)**2)\n",
    "\n",
    "        gw, gb = t.gradient(loss, [self.w, self.b])\n",
    "        return gw, gb\n",
    "\n",
    "    def fit(self, X,y, epochs, learning_rate=0.01):\n",
    "        #optimization loop\n",
    "        y = y.reshape(-1,1)\n",
    "        for epoch in pbar(range(epochs)):\n",
    "            gw, gb = self.get_gradient(X,y)\n",
    "            self.w.assign_sub(learning_rate * gw)\n",
    "            self.b.assign_sub(learning_rate * gb)\n"
   ]
  },
  {
   "cell_type": "code",
   "execution_count": 48,
   "metadata": {},
   "outputs": [],
   "source": [
    "lr = LinearRegression()"
   ]
  },
  {
   "cell_type": "markdown",
   "metadata": {},
   "source": [
    "observe that we can use the object directly on data to get predictions"
   ]
  },
  {
   "cell_type": "code",
   "execution_count": 49,
   "metadata": {},
   "outputs": [
    {
     "data": {
      "text/plain": [
       "<tf.Tensor: shape=(2, 1), dtype=float32, numpy=\n",
       "array([[0.12090292],\n",
       "       [0.03192687]], dtype=float32)>"
      ]
     },
     "execution_count": 49,
     "metadata": {},
     "output_type": "execute_result"
    }
   ],
   "source": [
    "lr(X[:2])"
   ]
  },
  {
   "cell_type": "code",
   "execution_count": 50,
   "metadata": {},
   "outputs": [
    {
     "data": {
      "text/plain": [
       "[<tf.Variable 'linear_regression_3/Variable:0' shape=(1, 1) dtype=float32, numpy=array([[0.05351591]], dtype=float32)>,\n",
       " <tf.Variable 'linear_regression_3/Variable:0' shape=(1,) dtype=float32, numpy=array([-0.08337774], dtype=float32)>]"
      ]
     },
     "execution_count": 50,
     "metadata": {},
     "output_type": "execute_result"
    }
   ],
   "source": [
    "lr.trainable_variables"
   ]
  },
  {
   "cell_type": "code",
   "execution_count": 51,
   "metadata": {},
   "outputs": [
    {
     "data": {
      "text/plain": [
       "[array([[0.05351591]], dtype=float32), array([-0.08337774], dtype=float32)]"
      ]
     },
     "execution_count": 51,
     "metadata": {},
     "output_type": "execute_result"
    }
   ],
   "source": [
    "lr.get_weights()"
   ]
  },
  {
   "cell_type": "markdown",
   "metadata": {},
   "source": [
    "and fit the model"
   ]
  },
  {
   "cell_type": "code",
   "execution_count": 52,
   "metadata": {},
   "outputs": [
    {
     "name": "stderr",
     "output_type": "stream",
     "text": [
      "100% (4000 of 4000) |####################| Elapsed Time: 0:00:03 Time:  0:00:03\n"
     ]
    }
   ],
   "source": [
    "lr.fit(X, y, epochs=4000)"
   ]
  },
  {
   "cell_type": "code",
   "execution_count": 53,
   "metadata": {},
   "outputs": [
    {
     "data": {
      "text/plain": [
       "(array([12.677637], dtype=float32), array([[-0.7156305]], dtype=float32))"
      ]
     },
     "execution_count": 53,
     "metadata": {},
     "output_type": "execute_result"
    }
   ],
   "source": [
    "lr.b.numpy(), lr.w.numpy()"
   ]
  },
  {
   "cell_type": "markdown",
   "metadata": {},
   "source": [
    "## Version 4: standard `keras` model\n"
   ]
  },
  {
   "cell_type": "code",
   "execution_count": 191,
   "metadata": {},
   "outputs": [],
   "source": [
    "from tensorflow.keras import Sequential\n",
    "from tensorflow.keras.layers import Dense\n",
    "    \n",
    "def get_model():\n",
    "    model = Sequential()\n",
    "    model.add(Dense(1, input_shape=(X.shape[-1],), activation=\"linear\"))\n",
    "    model.compile(optimizer=tf.keras.optimizers.SGD(learning_rate=0.01), \n",
    "                  loss=\"mse\")\n",
    "    return model"
   ]
  },
  {
   "cell_type": "code",
   "execution_count": 192,
   "metadata": {},
   "outputs": [
    {
     "data": {
      "text/plain": [
       "[<tf.Variable 'dense_27/kernel:0' shape=(1, 1) dtype=float32, numpy=array([[-0.7156559]], dtype=float32)>,\n",
       " <tf.Variable 'dense_27/bias:0' shape=(1,) dtype=float32, numpy=array([12.677767], dtype=float32)>]"
      ]
     },
     "execution_count": 192,
     "metadata": {},
     "output_type": "execute_result"
    }
   ],
   "source": [
    "model = get_model()\n",
    "model.fit(X,y, epochs=4000, batch_size=len(X), verbose=0)\n",
    "model.weights"
   ]
  },
  {
   "cell_type": "code",
   "execution_count": 193,
   "metadata": {},
   "outputs": [
    {
     "data": {
      "image/png": "[encoded data removed]",
      "text/plain": [
       "<Figure size 432x288 with 1 Axes>"
      ]
     },
     "metadata": {
      "needs_background": "light"
     },
     "output_type": "display_data"
    }
   ],
   "source": [
    "plt.plot(model.history.history[\"loss\"]); plt.xlabel(\"epoch\"); plt.ylabel(\"loss\"); plt.grid();"
   ]
  },
  {
   "cell_type": "markdown",
   "metadata": {},
   "source": [
    "## Version 5: Custom model with standard loop"
   ]
  },
  {
   "cell_type": "code",
   "execution_count": 194,
   "metadata": {},
   "outputs": [],
   "source": [
    "class LinearRegression(tf.keras.Model):\n",
    "    \n",
    "    def build(self, input_shape):\n",
    "        self.w = self.add_weight(shape=(input_shape[-1], 1),\n",
    "                                 initializer='random_normal',\n",
    "                                 trainable=True)\n",
    "        \n",
    "        self.b = self.add_weight(shape=(1,),\n",
    "                                 initializer='random_normal',\n",
    "                                 trainable=True)\n",
    "        \n",
    "    def call(self, inputs):\n",
    "        return tf.matmul(inputs, self.w) + self.b\n"
   ]
  },
  {
   "cell_type": "code",
   "execution_count": 195,
   "metadata": {},
   "outputs": [
    {
     "data": {
      "text/plain": [
       "<tensorflow.python.keras.callbacks.History at 0x7fab2ec10ad0>"
      ]
     },
     "execution_count": 195,
     "metadata": {},
     "output_type": "execute_result"
    }
   ],
   "source": [
    "lr = LinearRegression()\n",
    "lr.compile(optimizer=tf.keras.optimizers.SGD(learning_rate=0.01), \n",
    "           loss=\"mse\")\n",
    "lr.fit(X,y, epochs=4000, batch_size=len(X), verbose=0)"
   ]
  },
  {
   "cell_type": "code",
   "execution_count": 196,
   "metadata": {},
   "outputs": [
    {
     "data": {
      "text/plain": [
       "(array([12.677712], dtype=float32), array([-0.71564525], dtype=float32))"
      ]
     },
     "execution_count": 196,
     "metadata": {},
     "output_type": "execute_result"
    }
   ],
   "source": [
    "lr.b.numpy(), lr.w.numpy()[0]\n"
   ]
  },
  {
   "cell_type": "code",
   "execution_count": 197,
   "metadata": {},
   "outputs": [
    {
     "data": {
      "image/png": "[encoded data removed]",
      "text/plain": [
       "<Figure size 432x288 with 1 Axes>"
      ]
     },
     "metadata": {
      "needs_background": "light"
     },
     "output_type": "display_data"
    }
   ],
   "source": [
    "plt.plot(lr.history.history[\"loss\"]); plt.xlabel(\"epoch\"); plt.ylabel(\"loss\"); plt.grid();"
   ]
  },
  {
   "cell_type": "markdown",
   "metadata": {},
   "source": [
    "## Version 6: Custom loop with standard model\n",
    "\n",
    "observe how we use the loss functions and `optimizer.apply_gradients`"
   ]
  },
  {
   "cell_type": "code",
   "execution_count": 198,
   "metadata": {},
   "outputs": [],
   "source": [
    "from tensorflow.keras import Sequential\n",
    "from tensorflow.keras.layers import Dense\n",
    "    \n",
    "def get_model():\n",
    "    model = Sequential()\n",
    "    model.add(Dense(1, input_shape=(X.shape[-1],), activation=\"linear\"))\n",
    "    model.compile(optimizer=tf.keras.optimizers.SGD(learning_rate=0.01), \n",
    "                  loss=\"mse\")\n",
    "    return model"
   ]
  },
  {
   "cell_type": "markdown",
   "metadata": {},
   "source": [
    "our custom loop (**for any model** !!!)"
   ]
  },
  {
   "cell_type": "code",
   "execution_count": 213,
   "metadata": {},
   "outputs": [],
   "source": [
    "model = get_model()\n",
    "\n",
    "loss = model.loss_functions[0].fn\n",
    "optimizer = model.optimizer"
   ]
  },
  {
   "cell_type": "code",
   "execution_count": 214,
   "metadata": {},
   "outputs": [
    {
     "name": "stderr",
     "output_type": "stream",
     "text": [
      "100% (4000 of 4000) |####################| Elapsed Time: 0:00:01 Time:  0:00:01\n"
     ]
    }
   ],
   "source": [
    "@tf.function\n",
    "def train_step():\n",
    "    with tf.GradientTape() as tape:\n",
    "        loss_value = tf.reduce_mean(loss(model(X), y.reshape(-1,1)))\n",
    "    grads = tape.gradient(loss_value, model.trainable_variables)\n",
    "\n",
    "    optimizer.apply_gradients(zip(grads, model.trainable_variables))\n",
    "    return loss_value\n",
    "\n",
    "h = []\n",
    "for epoch in pbar(range(epochs)):\n",
    "    loss_value = train_step()\n",
    "    h.append(loss_value)"
   ]
  },
  {
   "cell_type": "code",
   "execution_count": 215,
   "metadata": {},
   "outputs": [
    {
     "data": {
      "text/plain": [
       "[<tf.Variable 'dense_30/kernel:0' shape=(1, 1) dtype=float32, numpy=array([[-0.71566415]], dtype=float32)>,\n",
       " <tf.Variable 'dense_30/bias:0' shape=(1,) dtype=float32, numpy=array([12.677809], dtype=float32)>]"
      ]
     },
     "execution_count": 215,
     "metadata": {},
     "output_type": "execute_result"
    }
   ],
   "source": [
    "model.weights"
   ]
  },
  {
   "cell_type": "code",
   "execution_count": 216,
   "metadata": {},
   "outputs": [
    {
     "data": {
      "image/png": "[encoded data removed]",
      "text/plain": [
       "<Figure size 432x288 with 1 Axes>"
      ]
     },
     "metadata": {
      "needs_background": "light"
     },
     "output_type": "display_data"
    }
   ],
   "source": [
    "plt.plot(h); plt.xlabel(\"epoch\"); plt.ylabel(\"loss\"); plt.grid();"
   ]
  },
  {
   "cell_type": "code",
   "execution_count": null,
   "metadata": {},
   "outputs": [],
   "source": []
  }
 ],
 "metadata": {
  "kernelspec": {
   "display_name": "p37",
   "language": "python",
   "name": "p37"
  },
  "language_info": {
   "codemirror_mode": {
    "name": "ipython",
    "version": 3
   },
   "file_extension": ".py",
   "mimetype": "text/x-python",
   "name": "python",
   "nbconvert_exporter": "python",
   "pygments_lexer": "ipython3",
   "version": "3.7.5"
  }
 },
 "nbformat": 4,
 "nbformat_minor": 2
}
