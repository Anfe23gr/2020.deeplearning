{
  "nbformat": 4,
  "nbformat_minor": 0,
  "metadata": {
    "kernelspec": {
      "display_name": "Python 3",
      "language": "python",
      "name": "python3"
    },
    "language_info": {
      "codemirror_mode": {
        "name": "ipython",
        "version": 3
      },
      "file_extension": ".py",
      "mimetype": "text/x-python",
      "name": "python",
      "nbconvert_exporter": "python",
      "pygments_lexer": "ipython3",
      "version": "3.7.3"
    },
    "colab": {
      "name": "U2.07 - Vanishing gradients.ipynb",
      "provenance": [],
      "collapsed_sections": []
    }
  },
  "cells": [
    {
      "cell_type": "code",
      "metadata": {
        "id": "zZ-OGg2XUH9c",
        "colab_type": "code",
        "colab": {
          "base_uri": "https://localhost:8080/",
          "height": 34
        },
        "outputId": "944bf74e-e51d-4070-b3aa-007d4344a35a"
      },
      "source": [
        "!wget --no-cache -O init.py -q https://raw.githubusercontent.com/rramosp/2020.deeplearning/master/init.py\n",
        "from init import init; init(force_download=False)"
      ],
      "execution_count": 2,
      "outputs": [
        {
          "output_type": "stream",
          "text": [
            "replicating local resources\n"
          ],
          "name": "stdout"
        }
      ]
    },
    {
      "cell_type": "code",
      "metadata": {
        "id": "o3bDeERPUH9j",
        "colab_type": "code",
        "colab": {
          "base_uri": "https://localhost:8080/",
          "height": 68
        },
        "outputId": "6d53e961-a2fe-40e8-c3e5-f334365554f5"
      },
      "source": [
        "import sys\n",
        "if 'google.colab' in sys.modules:\n",
        "    print (\"setting tensorflow version in colab\")\n",
        "    %tensorflow_version 2.x\n",
        "import tensorflow as tf\n",
        "tf.__version__"
      ],
      "execution_count": 1,
      "outputs": [
        {
          "output_type": "stream",
          "text": [
            "setting tensorflow version in colab\n",
            "TensorFlow 2.x selected.\n"
          ],
          "name": "stdout"
        },
        {
          "output_type": "execute_result",
          "data": {
            "text/plain": [
              "'2.1.0'"
            ]
          },
          "metadata": {
            "tags": []
          },
          "execution_count": 1
        }
      ]
    },
    {
      "cell_type": "markdown",
      "metadata": {
        "id": "Pt5L7QJDUH9n",
        "colab_type": "text"
      },
      "source": [
        "forward/back propagation calculations https://medium.com/@14prakash/back-propagation-is-very-simple-who-made-it-complicated-97b794c97e5c\n",
        "\n",
        "Vanishing gradient example: https://github.com/harinisuresh/VanishingGradient/blob/master/Vanishing%20Gradient%20Example.ipynb\n",
        "\n",
        "https://adventuresinmachinelearning.com/vanishing-gradient-problem-tensorflow/"
      ]
    },
    {
      "cell_type": "code",
      "metadata": {
        "id": "tncUg_QRUH9o",
        "colab_type": "code",
        "colab": {
          "base_uri": "https://localhost:8080/",
          "height": 17
        },
        "outputId": "bfdff993-f6f7-4978-bccd-1c5a811a035d"
      },
      "source": [
        "from IPython.core.display import display, HTML\n",
        "display(HTML(\"<style>.container { width:100% !important; }</style>\"))"
      ],
      "execution_count": 3,
      "outputs": [
        {
          "output_type": "display_data",
          "data": {
            "text/html": [
              "<style>.container { width:100% !important; }</style>"
            ],
            "text/plain": [
              "<IPython.core.display.HTML object>"
            ]
          },
          "metadata": {
            "tags": []
          }
        }
      ]
    },
    {
      "cell_type": "code",
      "metadata": {
        "id": "bjHbQiWkUH9r",
        "colab_type": "code",
        "colab": {}
      },
      "source": [
        "import numpy as np\n",
        "import matplotlib.pyplot as plt\n",
        "import pandas as pd\n",
        "from tensorflow import keras\n",
        "\n",
        "%matplotlib inline"
      ],
      "execution_count": 0,
      "outputs": []
    },
    {
      "cell_type": "markdown",
      "metadata": {
        "id": "5urbhDe8UH9u",
        "colab_type": "text"
      },
      "source": [
        "# Visualizing and understanding vanishing gradients\n",
        "\n",
        "Make sure you understand well the backpropagation algorithm. You may perform by hand the calculations as illustrated [here](https://medium.com/@14prakash/back-propagation-is-very-simple-who-made-it-complicated-97b794c97e5c) to consolidate your understanding.\n",
        "\n",
        "We will be using three activation functions. Observe under which what values each function's gradient becomes negligible (very near zero)\n",
        "\n"
      ]
    },
    {
      "cell_type": "markdown",
      "metadata": {
        "id": "iz7s0-NaUH9v",
        "colab_type": "text"
      },
      "source": [
        "### sigmoid\n",
        "\n",
        "$$\\text{sigm(z)} = \\frac{1}{1-e^{-z}}$$\n",
        "\n",
        "$$\\frac{\\partial \\;\\text{sigm}}{\\partial \\; z} = \\text{sigm}(z)(1-\\text{sigm}(z))$$\n"
      ]
    },
    {
      "cell_type": "code",
      "metadata": {
        "id": "GwCP_spVUH9w",
        "colab_type": "code",
        "colab": {
          "base_uri": "https://localhost:8080/",
          "height": 282
        },
        "outputId": "d257ce5a-2fc5-469d-952a-4d2a1f8caaa1"
      },
      "source": [
        "z = np.linspace(-10,10,100)\n",
        "\n",
        "sigm = lambda z: 1/(1+np.exp(-z))\n",
        "\n",
        "dsigm = lambda z: sigm(z)*(1-sigm(z))\n",
        "\n",
        "plt.plot(z, sigm(z), lw=5, label=\"sigm\")\n",
        "plt.plot(z, dsigm(z), lw=5, label=\"grad sigm\")\n",
        "plt.grid()\n",
        "plt.axvline(0, color=\"black\");\n",
        "plt.axhline(0, color=\"black\");\n",
        "plt.legend()"
      ],
      "execution_count": 5,
      "outputs": [
        {
          "output_type": "execute_result",
          "data": {
            "text/plain": [
              "<matplotlib.legend.Legend at 0x7effd76d1898>"
            ]
          },
          "metadata": {
            "tags": []
          },
          "execution_count": 5
        },
        {
          "output_type": "display_data",
          "data": {
            "image/png": "[encoded data removed]",
            "text/plain": [
              "<Figure size 432x288 with 1 Axes>"
            ]
          },
          "metadata": {
            "tags": []
          }
        }
      ]
    },
    {
      "cell_type": "markdown",
      "metadata": {
        "id": "HyemSqtRUH9z",
        "colab_type": "text"
      },
      "source": [
        "### tanh\n",
        "\n",
        "$$\\text{tanh(z)} = \\frac{e^z - e^{-z}}{e^z-e^{-z}}$$\n",
        "\n",
        "$$\\frac{\\partial \\;\\text{tanh}}{\\partial \\; z} = 1-\\text{tanh}(z)^2$$\n"
      ]
    },
    {
      "cell_type": "code",
      "metadata": {
        "id": "g-VIwHGJUH90",
        "colab_type": "code",
        "colab": {
          "base_uri": "https://localhost:8080/",
          "height": 282
        },
        "outputId": "a3ae37a6-0503-4533-c298-58175f8ede30"
      },
      "source": [
        "z = np.linspace(-10,10,100)\n",
        "\n",
        "tanh = lambda z: (np.exp(z)-np.exp(-z))/(np.exp(z)+np.exp(-z))\n",
        "\n",
        "dtanh = lambda z: 1 - tanh(z)**2\n",
        "\n",
        "plt.plot(z, tanh(z), lw=5, label=\"tanh\")\n",
        "plt.plot(z, dtanh(z), lw=5, label=\"grad tanh\")\n",
        "plt.grid()\n",
        "plt.axvline(0, color=\"black\");\n",
        "plt.axhline(0, color=\"black\");\n",
        "plt.legend()"
      ],
      "execution_count": 6,
      "outputs": [
        {
          "output_type": "execute_result",
          "data": {
            "text/plain": [
              "<matplotlib.legend.Legend at 0x7effd49c3518>"
            ]
          },
          "metadata": {
            "tags": []
          },
          "execution_count": 6
        },
        {
          "output_type": "display_data",
          "data": {
            "image/png": "[encoded data removed]",
            "text/plain": [
              "<Figure size 432x288 with 1 Axes>"
            ]
          },
          "metadata": {
            "tags": []
          }
        }
      ]
    },
    {
      "cell_type": "markdown",
      "metadata": {
        "id": "e1xSL7SfUH93",
        "colab_type": "text"
      },
      "source": [
        "### ReLU (Rectified Linear Unit)\n",
        "\n",
        "$$\\text{relu}(z) = \\text{z if }z<0\\;;\\;0\\text{ otherwise}$$\n",
        "\n",
        "$$\\frac{\\partial \\;\\text{relu}}{\\partial \\; z} = \\text{1 if }z<0\\;;\\;0\\text{ otherwise}$$\n"
      ]
    },
    {
      "cell_type": "code",
      "metadata": {
        "id": "an0FW5PnUH94",
        "colab_type": "code",
        "colab": {
          "base_uri": "https://localhost:8080/",
          "height": 282
        },
        "outputId": "a183b642-cf4f-4e14-a781-925e3cb6338a"
      },
      "source": [
        "z = np.linspace(-2,2,100)\n",
        "\n",
        "relu = np.vectorize(lambda z: z if z>0 else 0.)\n",
        "\n",
        "drelu = np.vectorize(lambda z: 1 if z>0 else 0.)\n",
        "\n",
        "plt.plot(z, relu(z), lw=5, label=\"relu\")\n",
        "plt.plot(z, drelu(z), lw=5, label=\"grad relu\")\n",
        "plt.grid()\n",
        "plt.axvline(0, color=\"black\");\n",
        "plt.axhline(0, color=\"black\");\n",
        "plt.legend()"
      ],
      "execution_count": 7,
      "outputs": [
        {
          "output_type": "execute_result",
          "data": {
            "text/plain": [
              "<matplotlib.legend.Legend at 0x7effd4950be0>"
            ]
          },
          "metadata": {
            "tags": []
          },
          "execution_count": 7
        },
        {
          "output_type": "display_data",
          "data": {
            "image/png": "[encoded data removed]",
            "text/plain": [
              "<Figure size 432x288 with 1 Axes>"
            ]
          },
          "metadata": {
            "tags": []
          }
        }
      ]
    },
    {
      "cell_type": "markdown",
      "metadata": {
        "id": "UJ7TZCzyUH97",
        "colab_type": "text"
      },
      "source": [
        "### Leaky ReLU (Rectified Linear Unit)\n",
        "\n",
        "$$\\text{relu}(z) = \\text{z if }z<0\\;;\\;kz\\text{ otherwise with }k<<1$$\n",
        "\n",
        "$$\\frac{\\partial \\;\\text{relu}}{\\partial \\; z} = \\text{1 if }z<0\\;;\\;k\\text{ otherwise}$$\n"
      ]
    },
    {
      "cell_type": "code",
      "metadata": {
        "id": "BoJSTwSuUH97",
        "colab_type": "code",
        "colab": {
          "base_uri": "https://localhost:8080/",
          "height": 282
        },
        "outputId": "a486f342-a8cc-46e0-daeb-991d02516e90"
      },
      "source": [
        "z = np.linspace(-2,2,100)\n",
        "\n",
        "relu = np.vectorize(lambda z: z if z>0 else .1*z)\n",
        "\n",
        "drelu = np.vectorize(lambda z: 1 if z>0 else .1)\n",
        "\n",
        "plt.plot(z, relu(z), lw=5, label=\"relu\")\n",
        "plt.plot(z, drelu(z), lw=5, label=\"grad relu\")\n",
        "plt.grid(); \n",
        "plt.axvline(0, color=\"black\");\n",
        "plt.axhline(0, color=\"black\");\n",
        "plt.legend()"
      ],
      "execution_count": 8,
      "outputs": [
        {
          "output_type": "execute_result",
          "data": {
            "text/plain": [
              "<matplotlib.legend.Legend at 0x7effd48e41d0>"
            ]
          },
          "metadata": {
            "tags": []
          },
          "execution_count": 8
        },
        {
          "output_type": "display_data",
          "data": {
            "image/png": "[encoded data removed]",
            "text/plain": [
              "<Figure size 432x288 with 1 Axes>"
            ]
          },
          "metadata": {
            "tags": []
          }
        }
      ]
    },
    {
      "cell_type": "code",
      "metadata": {
        "id": "eBeaup9oUH9-",
        "colab_type": "code",
        "colab": {}
      },
      "source": [
        ""
      ],
      "execution_count": 0,
      "outputs": []
    },
    {
      "cell_type": "markdown",
      "metadata": {
        "id": "cO5EcNXSUH-B",
        "colab_type": "text"
      },
      "source": [
        "### load sample MNIST data as customary"
      ]
    },
    {
      "cell_type": "code",
      "metadata": {
        "id": "SW5RDD8qUH-C",
        "colab_type": "code",
        "colab": {
          "base_uri": "https://localhost:8080/",
          "height": 34
        },
        "outputId": "eaa3d9ec-5f41-495b-88a7-a9eb8caeba41"
      },
      "source": [
        "mnist = pd.read_csv(\"local/data/mnist1.5k.csv.gz\", compression=\"gzip\", header=None).values\n",
        "X=mnist[:,1:785]/255.\n",
        "y=mnist[:,0]\n",
        "print(\"dimension de las imagenes y las clases\", X.shape, y.shape)"
      ],
      "execution_count": 9,
      "outputs": [
        {
          "output_type": "stream",
          "text": [
            "dimension de las imagenes y las clases (1500, 784) (1500,)\n"
          ],
          "name": "stdout"
        }
      ]
    },
    {
      "cell_type": "code",
      "metadata": {
        "id": "2iXzcb0jUH-E",
        "colab_type": "code",
        "colab": {
          "base_uri": "https://localhost:8080/",
          "height": 34
        },
        "outputId": "8a16a944-05df-4549-82b2-95d0de7805d9"
      },
      "source": [
        "from sklearn.model_selection import train_test_split\n",
        "X_train, X_test, y_train, y_test = train_test_split(X, y, test_size=.2)\n",
        "X_train = X_train\n",
        "X_test  = X_test\n",
        "y_train_oh = np.eye(10)[y_train]\n",
        "y_test_oh  = np.eye(10)[y_test]\n",
        "print(X_train.shape, y_train_oh.shape)"
      ],
      "execution_count": 10,
      "outputs": [
        {
          "output_type": "stream",
          "text": [
            "(1200, 784) (1200, 10)\n"
          ],
          "name": "stdout"
        }
      ]
    },
    {
      "cell_type": "code",
      "metadata": {
        "id": "HmoxgIGkUH-G",
        "colab_type": "code",
        "colab": {}
      },
      "source": [
        "from tensorflow.keras import Sequential, Model\n",
        "from tensorflow.keras.layers import Dense, Dropout, Flatten, concatenate, Input\n",
        "from tensorflow.keras.backend import clear_session\n",
        "from tensorflow import keras"
      ],
      "execution_count": 0,
      "outputs": []
    },
    {
      "cell_type": "markdown",
      "metadata": {
        "id": "xTl-dXJ9UH-J",
        "colab_type": "text"
      },
      "source": [
        "### A basic multi layered dense model\n",
        "\n",
        "observe that the function allows us to parametrize the number of hidden layers and their activation function\n"
      ]
    },
    {
      "cell_type": "code",
      "metadata": {
        "id": "y5wi-OteUH-K",
        "colab_type": "code",
        "colab": {}
      },
      "source": [
        "def get_model(input_dim=784, output_dim=10, num_hidden_layers=6, hidden_size=10, activation=\"relu\"):\n",
        "\n",
        "    clear_session()\n",
        "    model = Sequential()\n",
        "    model.add(Dense(hidden_size, activation=activation, input_dim=input_dim, name=\"Layer_%02d_Input\"%(0)))\n",
        "    \n",
        "    for i in range(num_hidden_layers):\n",
        "        model.add(Dense(hidden_size, activation=activation, name=\"Layer_%02d_Hidden\"%(i+1)))\n",
        "   \n",
        "    model.add(Dense(output_dim, activation=\"softmax\", name=\"Layer_%02d_Output\"%(num_hidden_layers+1)))\n",
        "        \n",
        "    model.compile(optimizer='adam', loss='categorical_crossentropy', metrics=['accuracy'])\n",
        "    model.reset_states()\n",
        "    return model"
      ],
      "execution_count": 0,
      "outputs": []
    },
    {
      "cell_type": "markdown",
      "metadata": {
        "id": "CdjyzRhkUH-N",
        "colab_type": "text"
      },
      "source": [
        "### SIGMOID activation"
      ]
    },
    {
      "cell_type": "code",
      "metadata": {
        "scrolled": true,
        "id": "IRua6cxAUH-N",
        "colab_type": "code",
        "colab": {
          "base_uri": "https://localhost:8080/",
          "height": 1000
        },
        "outputId": "6af87062-3947-46a5-c78f-c50627fb7c1e"
      },
      "source": [
        "model = get_model(num_hidden_layers=10, activation=\"sigmoid\")\n",
        "!rm -rf log/sigmoid\n",
        "tb_callback = keras.callbacks.TensorBoard(log_dir='./log/sigmoid', histogram_freq=1,  write_grads=True, write_graph=True, write_images=True)\n",
        "model.fit(X_train, y_train_oh, epochs=30, batch_size=32, validation_data=(X_test, y_test_oh), callbacks=[tb_callback])"
      ],
      "execution_count": 13,
      "outputs": [
        {
          "output_type": "stream",
          "text": [
            "WARNING:tensorflow:`write_grads` will be ignored in TensorFlow 2.0 for the `TensorBoard` Callback.\n",
            "Train on 1200 samples, validate on 300 samples\n",
            "Epoch 1/30\n",
            "1200/1200 [==============================] - 1s 1ms/sample - loss: 2.3318 - accuracy: 0.1000 - val_loss: 2.3345 - val_accuracy: 0.0867\n",
            "Epoch 2/30\n",
            "1200/1200 [==============================] - 0s 150us/sample - loss: 2.3110 - accuracy: 0.0933 - val_loss: 2.3159 - val_accuracy: 0.0933\n",
            "Epoch 3/30\n",
            "1200/1200 [==============================] - 0s 137us/sample - loss: 2.3043 - accuracy: 0.1025 - val_loss: 2.3094 - val_accuracy: 0.1433\n",
            "Epoch 4/30\n",
            "1200/1200 [==============================] - 0s 155us/sample - loss: 2.3007 - accuracy: 0.1192 - val_loss: 2.3049 - val_accuracy: 0.1433\n",
            "Epoch 5/30\n",
            "1200/1200 [==============================] - 0s 138us/sample - loss: 2.3000 - accuracy: 0.1192 - val_loss: 2.3023 - val_accuracy: 0.1433\n",
            "Epoch 6/30\n",
            "1200/1200 [==============================] - 0s 140us/sample - loss: 2.3000 - accuracy: 0.1192 - val_loss: 2.3001 - val_accuracy: 0.1433\n",
            "Epoch 7/30\n",
            "1200/1200 [==============================] - 0s 144us/sample - loss: 2.2997 - accuracy: 0.1192 - val_loss: 2.2999 - val_accuracy: 0.1433\n",
            "Epoch 8/30\n",
            "1200/1200 [==============================] - 0s 148us/sample - loss: 2.2992 - accuracy: 0.1192 - val_loss: 2.2988 - val_accuracy: 0.1433\n",
            "Epoch 9/30\n",
            "1200/1200 [==============================] - 0s 151us/sample - loss: 2.2997 - accuracy: 0.1192 - val_loss: 2.2985 - val_accuracy: 0.1433\n",
            "Epoch 10/30\n",
            "1200/1200 [==============================] - 0s 152us/sample - loss: 2.2998 - accuracy: 0.1192 - val_loss: 2.2985 - val_accuracy: 0.1433\n",
            "Epoch 11/30\n",
            "1200/1200 [==============================] - 0s 145us/sample - loss: 2.2995 - accuracy: 0.1192 - val_loss: 2.2988 - val_accuracy: 0.1433\n",
            "Epoch 12/30\n",
            "1200/1200 [==============================] - 0s 157us/sample - loss: 2.2996 - accuracy: 0.1192 - val_loss: 2.2985 - val_accuracy: 0.1433\n",
            "Epoch 13/30\n",
            "1200/1200 [==============================] - 0s 139us/sample - loss: 2.2998 - accuracy: 0.1192 - val_loss: 2.2999 - val_accuracy: 0.1433\n",
            "Epoch 14/30\n",
            "1200/1200 [==============================] - 0s 161us/sample - loss: 2.2997 - accuracy: 0.1192 - val_loss: 2.2993 - val_accuracy: 0.1433\n",
            "Epoch 15/30\n",
            "1200/1200 [==============================] - 0s 160us/sample - loss: 2.2994 - accuracy: 0.1192 - val_loss: 2.2998 - val_accuracy: 0.1433\n",
            "Epoch 16/30\n",
            "1200/1200 [==============================] - 0s 145us/sample - loss: 2.3000 - accuracy: 0.1192 - val_loss: 2.2985 - val_accuracy: 0.1433\n",
            "Epoch 17/30\n",
            "1200/1200 [==============================] - 0s 148us/sample - loss: 2.2994 - accuracy: 0.1192 - val_loss: 2.2984 - val_accuracy: 0.1433\n",
            "Epoch 18/30\n",
            "1200/1200 [==============================] - 0s 150us/sample - loss: 2.2999 - accuracy: 0.1192 - val_loss: 2.2991 - val_accuracy: 0.1433\n",
            "Epoch 19/30\n",
            "1200/1200 [==============================] - 0s 157us/sample - loss: 2.3000 - accuracy: 0.1192 - val_loss: 2.2987 - val_accuracy: 0.1433\n",
            "Epoch 20/30\n",
            "1200/1200 [==============================] - 0s 151us/sample - loss: 2.2997 - accuracy: 0.1192 - val_loss: 2.2993 - val_accuracy: 0.1433\n",
            "Epoch 21/30\n",
            "1200/1200 [==============================] - 0s 160us/sample - loss: 2.3000 - accuracy: 0.1192 - val_loss: 2.2986 - val_accuracy: 0.1433\n",
            "Epoch 22/30\n",
            "1200/1200 [==============================] - 0s 149us/sample - loss: 2.2996 - accuracy: 0.1192 - val_loss: 2.2978 - val_accuracy: 0.1433\n",
            "Epoch 23/30\n",
            "1200/1200 [==============================] - 0s 145us/sample - loss: 2.2991 - accuracy: 0.1192 - val_loss: 2.2981 - val_accuracy: 0.1433\n",
            "Epoch 24/30\n",
            "1200/1200 [==============================] - 0s 159us/sample - loss: 2.2998 - accuracy: 0.1192 - val_loss: 2.2989 - val_accuracy: 0.1433\n",
            "Epoch 25/30\n",
            "1200/1200 [==============================] - 0s 154us/sample - loss: 2.2995 - accuracy: 0.1192 - val_loss: 2.2991 - val_accuracy: 0.1433\n",
            "Epoch 26/30\n",
            "1200/1200 [==============================] - 0s 146us/sample - loss: 2.3001 - accuracy: 0.1192 - val_loss: 2.2987 - val_accuracy: 0.1433\n",
            "Epoch 27/30\n",
            "1200/1200 [==============================] - 0s 147us/sample - loss: 2.2995 - accuracy: 0.1192 - val_loss: 2.3000 - val_accuracy: 0.1433\n",
            "Epoch 28/30\n",
            "1200/1200 [==============================] - 0s 152us/sample - loss: 2.3001 - accuracy: 0.1192 - val_loss: 2.2997 - val_accuracy: 0.1433\n",
            "Epoch 29/30\n",
            "1200/1200 [==============================] - 0s 148us/sample - loss: 2.3003 - accuracy: 0.1192 - val_loss: 2.2972 - val_accuracy: 0.1433\n",
            "Epoch 30/30\n",
            "1200/1200 [==============================] - 0s 155us/sample - loss: 2.2998 - accuracy: 0.1192 - val_loss: 2.2980 - val_accuracy: 0.1433\n"
          ],
          "name": "stdout"
        },
        {
          "output_type": "execute_result",
          "data": {
            "text/plain": [
              "<tensorflow.python.keras.callbacks.History at 0x7effccd01668>"
            ]
          },
          "metadata": {
            "tags": []
          },
          "execution_count": 13
        }
      ]
    },
    {
      "cell_type": "markdown",
      "metadata": {
        "id": "qbfRphpAUH-Q",
        "colab_type": "text"
      },
      "source": [
        "### RELU activation"
      ]
    },
    {
      "cell_type": "code",
      "metadata": {
        "scrolled": true,
        "id": "yHNZjjBSUH-R",
        "colab_type": "code",
        "colab": {
          "base_uri": "https://localhost:8080/",
          "height": 1000
        },
        "outputId": "a569f002-af25-460f-d0de-3897e8b83c8d"
      },
      "source": [
        "model = get_model(num_hidden_layers=10, activation=\"relu\")\n",
        "!rm -rf log/relu\n",
        "tb_callback = keras.callbacks.TensorBoard(log_dir='./log/relu', histogram_freq=1,  write_grads=True, write_graph=True, write_images=True)\n",
        "model.fit(X_train, y_train_oh, epochs=30, batch_size=32, validation_data=(X_test, y_test_oh), callbacks=[tb_callback])"
      ],
      "execution_count": 14,
      "outputs": [
        {
          "output_type": "stream",
          "text": [
            "WARNING:tensorflow:`write_grads` will be ignored in TensorFlow 2.0 for the `TensorBoard` Callback.\n",
            "Train on 1200 samples, validate on 300 samples\n",
            "Epoch 1/30\n",
            "1200/1200 [==============================] - 1s 791us/sample - loss: 2.2966 - accuracy: 0.1500 - val_loss: 2.2831 - val_accuracy: 0.1467\n",
            "Epoch 2/30\n",
            "1200/1200 [==============================] - 0s 157us/sample - loss: 2.1956 - accuracy: 0.1842 - val_loss: 2.1519 - val_accuracy: 0.1767\n",
            "Epoch 3/30\n",
            "1200/1200 [==============================] - 0s 150us/sample - loss: 2.0006 - accuracy: 0.2225 - val_loss: 1.9934 - val_accuracy: 0.2433\n",
            "Epoch 4/30\n",
            "1200/1200 [==============================] - 0s 156us/sample - loss: 1.8247 - accuracy: 0.2117 - val_loss: 1.8681 - val_accuracy: 0.2400\n",
            "Epoch 5/30\n",
            "1200/1200 [==============================] - 0s 241us/sample - loss: 1.6695 - accuracy: 0.2733 - val_loss: 1.7260 - val_accuracy: 0.3133\n",
            "Epoch 6/30\n",
            "1200/1200 [==============================] - 0s 154us/sample - loss: 1.5062 - accuracy: 0.3950 - val_loss: 1.6061 - val_accuracy: 0.4133\n",
            "Epoch 7/30\n",
            "1200/1200 [==============================] - 0s 144us/sample - loss: 1.3165 - accuracy: 0.4342 - val_loss: 1.6024 - val_accuracy: 0.4233\n",
            "Epoch 8/30\n",
            "1200/1200 [==============================] - 0s 139us/sample - loss: 1.1972 - accuracy: 0.4883 - val_loss: 1.5921 - val_accuracy: 0.4933\n",
            "Epoch 9/30\n",
            "1200/1200 [==============================] - 0s 141us/sample - loss: 1.1051 - accuracy: 0.5367 - val_loss: 1.7167 - val_accuracy: 0.5133\n",
            "Epoch 10/30\n",
            "1200/1200 [==============================] - 0s 141us/sample - loss: 1.0284 - accuracy: 0.5600 - val_loss: 1.6552 - val_accuracy: 0.4633\n",
            "Epoch 11/30\n",
            "1200/1200 [==============================] - 0s 145us/sample - loss: 0.9890 - accuracy: 0.5758 - val_loss: 1.7537 - val_accuracy: 0.5233\n",
            "Epoch 12/30\n",
            "1200/1200 [==============================] - 0s 139us/sample - loss: 0.9423 - accuracy: 0.5942 - val_loss: 1.7436 - val_accuracy: 0.5033\n",
            "Epoch 13/30\n",
            "1200/1200 [==============================] - 0s 137us/sample - loss: 0.8690 - accuracy: 0.6492 - val_loss: 1.7665 - val_accuracy: 0.5633\n",
            "Epoch 14/30\n",
            "1200/1200 [==============================] - 0s 150us/sample - loss: 0.8438 - accuracy: 0.6392 - val_loss: 1.7454 - val_accuracy: 0.5567\n",
            "Epoch 15/30\n",
            "1200/1200 [==============================] - 0s 159us/sample - loss: 0.7849 - accuracy: 0.6792 - val_loss: 1.9313 - val_accuracy: 0.5800\n",
            "Epoch 16/30\n",
            "1200/1200 [==============================] - 0s 154us/sample - loss: 0.7558 - accuracy: 0.7008 - val_loss: 1.8554 - val_accuracy: 0.5867\n",
            "Epoch 17/30\n",
            "1200/1200 [==============================] - 0s 148us/sample - loss: 0.7106 - accuracy: 0.7217 - val_loss: 1.9866 - val_accuracy: 0.5900\n",
            "Epoch 18/30\n",
            "1200/1200 [==============================] - 0s 151us/sample - loss: 0.6789 - accuracy: 0.7550 - val_loss: 2.0375 - val_accuracy: 0.6100\n",
            "Epoch 19/30\n",
            "1200/1200 [==============================] - 0s 152us/sample - loss: 0.6371 - accuracy: 0.7775 - val_loss: 1.9287 - val_accuracy: 0.6133\n",
            "Epoch 20/30\n",
            "1200/1200 [==============================] - 0s 147us/sample - loss: 0.6300 - accuracy: 0.7733 - val_loss: 2.0904 - val_accuracy: 0.5800\n",
            "Epoch 21/30\n",
            "1200/1200 [==============================] - 0s 150us/sample - loss: 0.5994 - accuracy: 0.7858 - val_loss: 2.0640 - val_accuracy: 0.5833\n",
            "Epoch 22/30\n",
            "1200/1200 [==============================] - 0s 140us/sample - loss: 0.5558 - accuracy: 0.8183 - val_loss: 2.1383 - val_accuracy: 0.5833\n",
            "Epoch 23/30\n",
            "1200/1200 [==============================] - 0s 159us/sample - loss: 0.5219 - accuracy: 0.8283 - val_loss: 2.2409 - val_accuracy: 0.6300\n",
            "Epoch 24/30\n",
            "1200/1200 [==============================] - 0s 156us/sample - loss: 0.5152 - accuracy: 0.8242 - val_loss: 2.2107 - val_accuracy: 0.6067\n",
            "Epoch 25/30\n",
            "1200/1200 [==============================] - 0s 139us/sample - loss: 0.4769 - accuracy: 0.8492 - val_loss: 2.2650 - val_accuracy: 0.6067\n",
            "Epoch 26/30\n",
            "1200/1200 [==============================] - 0s 169us/sample - loss: 0.4303 - accuracy: 0.8675 - val_loss: 2.3513 - val_accuracy: 0.6600\n",
            "Epoch 27/30\n",
            "1200/1200 [==============================] - 0s 139us/sample - loss: 0.4653 - accuracy: 0.8408 - val_loss: 2.5494 - val_accuracy: 0.6300\n",
            "Epoch 28/30\n",
            "1200/1200 [==============================] - 0s 143us/sample - loss: 0.4194 - accuracy: 0.8667 - val_loss: 2.5070 - val_accuracy: 0.6667\n",
            "Epoch 29/30\n",
            "1200/1200 [==============================] - 0s 157us/sample - loss: 0.3761 - accuracy: 0.8867 - val_loss: 2.5212 - val_accuracy: 0.6900\n",
            "Epoch 30/30\n",
            "1200/1200 [==============================] - 0s 140us/sample - loss: 0.3688 - accuracy: 0.8858 - val_loss: 2.7497 - val_accuracy: 0.6467\n"
          ],
          "name": "stdout"
        },
        {
          "output_type": "execute_result",
          "data": {
            "text/plain": [
              "<tensorflow.python.keras.callbacks.History at 0x7effcba75550>"
            ]
          },
          "metadata": {
            "tags": []
          },
          "execution_count": 14
        }
      ]
    },
    {
      "cell_type": "markdown",
      "metadata": {
        "id": "7TYgHSlJUH-T",
        "colab_type": "text"
      },
      "source": [
        "### Leaky RELU activation"
      ]
    },
    {
      "cell_type": "code",
      "metadata": {
        "scrolled": true,
        "id": "xKV9L6RBUH-U",
        "colab_type": "code",
        "colab": {
          "base_uri": "https://localhost:8080/",
          "height": 1000
        },
        "outputId": "a2ecec17-905c-4800-a468-89f45973d7dc"
      },
      "source": [
        "import tensorflow as tf\n",
        "model = get_model(num_hidden_layers=10, activation=tf.nn.leaky_relu)\n",
        "!rm -rf log/leaky_relu\n",
        "tb_callback = keras.callbacks.TensorBoard(log_dir='./log/leaky_relu', histogram_freq=1,  write_grads=True, write_graph=True, write_images=True)\n",
        "model.fit(X_train, y_train_oh, epochs=30, batch_size=32, validation_data=(X_test, y_test_oh), callbacks=[tb_callback])"
      ],
      "execution_count": 15,
      "outputs": [
        {
          "output_type": "stream",
          "text": [
            "WARNING:tensorflow:`write_grads` will be ignored in TensorFlow 2.0 for the `TensorBoard` Callback.\n",
            "Train on 1200 samples, validate on 300 samples\n",
            "Epoch 1/30\n",
            "1200/1200 [==============================] - 1s 763us/sample - loss: 2.2942 - accuracy: 0.1192 - val_loss: 2.2463 - val_accuracy: 0.1433\n",
            "Epoch 2/30\n",
            "1200/1200 [==============================] - 0s 148us/sample - loss: 2.1663 - accuracy: 0.1575 - val_loss: 2.0257 - val_accuracy: 0.2300\n",
            "Epoch 3/30\n",
            "1200/1200 [==============================] - 0s 156us/sample - loss: 2.0329 - accuracy: 0.2158 - val_loss: 1.9318 - val_accuracy: 0.2300\n",
            "Epoch 4/30\n",
            "1200/1200 [==============================] - 0s 144us/sample - loss: 1.9276 - accuracy: 0.2150 - val_loss: 1.8053 - val_accuracy: 0.2300\n",
            "Epoch 5/30\n",
            "1200/1200 [==============================] - 0s 148us/sample - loss: 1.7634 - accuracy: 0.2292 - val_loss: 1.6782 - val_accuracy: 0.2533\n",
            "Epoch 6/30\n",
            "1200/1200 [==============================] - 0s 141us/sample - loss: 1.6394 - accuracy: 0.2633 - val_loss: 1.6287 - val_accuracy: 0.2900\n",
            "Epoch 7/30\n",
            "1200/1200 [==============================] - 0s 137us/sample - loss: 1.5534 - accuracy: 0.3500 - val_loss: 1.5477 - val_accuracy: 0.4100\n",
            "Epoch 8/30\n",
            "1200/1200 [==============================] - 0s 145us/sample - loss: 1.4491 - accuracy: 0.3767 - val_loss: 1.4647 - val_accuracy: 0.4200\n",
            "Epoch 9/30\n",
            "1200/1200 [==============================] - 0s 145us/sample - loss: 1.3259 - accuracy: 0.4100 - val_loss: 1.4384 - val_accuracy: 0.4367\n",
            "Epoch 10/30\n",
            "1200/1200 [==============================] - 0s 145us/sample - loss: 1.2360 - accuracy: 0.4758 - val_loss: 1.3836 - val_accuracy: 0.5000\n",
            "Epoch 11/30\n",
            "1200/1200 [==============================] - 0s 143us/sample - loss: 1.1378 - accuracy: 0.5583 - val_loss: 1.3734 - val_accuracy: 0.5033\n",
            "Epoch 12/30\n",
            "1200/1200 [==============================] - 0s 155us/sample - loss: 1.0736 - accuracy: 0.5942 - val_loss: 1.3026 - val_accuracy: 0.6067\n",
            "Epoch 13/30\n",
            "1200/1200 [==============================] - 0s 144us/sample - loss: 0.9666 - accuracy: 0.6642 - val_loss: 1.2702 - val_accuracy: 0.5567\n",
            "Epoch 14/30\n",
            "1200/1200 [==============================] - 0s 145us/sample - loss: 0.9262 - accuracy: 0.6617 - val_loss: 1.2845 - val_accuracy: 0.5667\n",
            "Epoch 15/30\n",
            "1200/1200 [==============================] - 0s 146us/sample - loss: 0.8857 - accuracy: 0.6883 - val_loss: 1.2954 - val_accuracy: 0.5833\n",
            "Epoch 16/30\n",
            "1200/1200 [==============================] - 0s 141us/sample - loss: 0.8037 - accuracy: 0.7125 - val_loss: 1.3578 - val_accuracy: 0.5900\n",
            "Epoch 17/30\n",
            "1200/1200 [==============================] - 0s 152us/sample - loss: 0.7537 - accuracy: 0.7392 - val_loss: 1.3278 - val_accuracy: 0.6600\n",
            "Epoch 18/30\n",
            "1200/1200 [==============================] - 0s 147us/sample - loss: 0.6916 - accuracy: 0.7758 - val_loss: 1.4566 - val_accuracy: 0.6033\n",
            "Epoch 19/30\n",
            "1200/1200 [==============================] - 0s 148us/sample - loss: 0.6612 - accuracy: 0.7708 - val_loss: 1.3057 - val_accuracy: 0.6267\n",
            "Epoch 20/30\n",
            "1200/1200 [==============================] - 0s 150us/sample - loss: 0.6395 - accuracy: 0.7750 - val_loss: 1.3881 - val_accuracy: 0.6467\n",
            "Epoch 21/30\n",
            "1200/1200 [==============================] - 0s 157us/sample - loss: 0.5702 - accuracy: 0.8017 - val_loss: 1.3874 - val_accuracy: 0.6733\n",
            "Epoch 22/30\n",
            "1200/1200 [==============================] - 0s 143us/sample - loss: 0.5066 - accuracy: 0.8225 - val_loss: 1.3868 - val_accuracy: 0.6700\n",
            "Epoch 23/30\n",
            "1200/1200 [==============================] - 0s 152us/sample - loss: 0.4793 - accuracy: 0.8283 - val_loss: 1.6420 - val_accuracy: 0.6567\n",
            "Epoch 24/30\n",
            "1200/1200 [==============================] - 0s 146us/sample - loss: 0.4697 - accuracy: 0.8300 - val_loss: 1.5471 - val_accuracy: 0.7100\n",
            "Epoch 25/30\n",
            "1200/1200 [==============================] - 0s 140us/sample - loss: 0.4399 - accuracy: 0.8450 - val_loss: 1.6849 - val_accuracy: 0.6600\n",
            "Epoch 26/30\n",
            "1200/1200 [==============================] - 0s 145us/sample - loss: 0.4191 - accuracy: 0.8483 - val_loss: 1.6577 - val_accuracy: 0.6633\n",
            "Epoch 27/30\n",
            "1200/1200 [==============================] - 0s 144us/sample - loss: 0.3936 - accuracy: 0.8658 - val_loss: 1.7763 - val_accuracy: 0.6833\n",
            "Epoch 28/30\n",
            "1200/1200 [==============================] - 0s 153us/sample - loss: 0.3695 - accuracy: 0.8733 - val_loss: 1.9116 - val_accuracy: 0.6933\n",
            "Epoch 29/30\n",
            "1200/1200 [==============================] - 0s 150us/sample - loss: 0.3508 - accuracy: 0.8833 - val_loss: 1.9878 - val_accuracy: 0.6633\n",
            "Epoch 30/30\n",
            "1200/1200 [==============================] - 0s 142us/sample - loss: 0.3413 - accuracy: 0.8875 - val_loss: 1.9426 - val_accuracy: 0.7033\n"
          ],
          "name": "stdout"
        },
        {
          "output_type": "execute_result",
          "data": {
            "text/plain": [
              "<tensorflow.python.keras.callbacks.History at 0x7effcb03c588>"
            ]
          },
          "metadata": {
            "tags": []
          },
          "execution_count": 15
        }
      ]
    },
    {
      "cell_type": "markdown",
      "metadata": {
        "id": "exW0_JcbUH-W",
        "colab_type": "text"
      },
      "source": [
        "### SIGMOID activation but longer run (epochs)"
      ]
    },
    {
      "cell_type": "code",
      "metadata": {
        "scrolled": true,
        "id": "iPJDDeKJUH-X",
        "colab_type": "code",
        "colab": {
          "base_uri": "https://localhost:8080/",
          "height": 1000
        },
        "outputId": "b39dec94-c552-423a-fd24-565beeaec453"
      },
      "source": [
        "model = get_model(num_hidden_layers=10, activation=\"sigmoid\")\n",
        "!rm -rf log/sigmoid_longrun\n",
        "tb_callback = keras.callbacks.TensorBoard(log_dir='./log/sigmoid_longrun', histogram_freq=1,  write_grads=True, write_graph=True, write_images=True)\n",
        "model.fit(X_train, y_train_oh, epochs=300, batch_size=32, validation_data=(X_test, y_test_oh), callbacks=[tb_callback])"
      ],
      "execution_count": 16,
      "outputs": [
        {
          "output_type": "stream",
          "text": [
            "WARNING:tensorflow:`write_grads` will be ignored in TensorFlow 2.0 for the `TensorBoard` Callback.\n",
            "Train on 1200 samples, validate on 300 samples\n",
            "Epoch 1/300\n",
            "1200/1200 [==============================] - 1s 765us/sample - loss: 2.3321 - accuracy: 0.1000 - val_loss: 2.3207 - val_accuracy: 0.1133\n",
            "Epoch 2/300\n",
            "1200/1200 [==============================] - 0s 144us/sample - loss: 2.3131 - accuracy: 0.1000 - val_loss: 2.3067 - val_accuracy: 0.1133\n",
            "Epoch 3/300\n",
            "1200/1200 [==============================] - 0s 152us/sample - loss: 2.3051 - accuracy: 0.1000 - val_loss: 2.3010 - val_accuracy: 0.1133\n",
            "Epoch 4/300\n",
            "1200/1200 [==============================] - 0s 139us/sample - loss: 2.3023 - accuracy: 0.1175 - val_loss: 2.3009 - val_accuracy: 0.1433\n",
            "Epoch 5/300\n",
            "1200/1200 [==============================] - 0s 141us/sample - loss: 2.3005 - accuracy: 0.1192 - val_loss: 2.2974 - val_accuracy: 0.1433\n",
            "Epoch 6/300\n",
            "1200/1200 [==============================] - 0s 154us/sample - loss: 2.2997 - accuracy: 0.1192 - val_loss: 2.2974 - val_accuracy: 0.1433\n",
            "Epoch 7/300\n",
            "1200/1200 [==============================] - 0s 152us/sample - loss: 2.2996 - accuracy: 0.1192 - val_loss: 2.2991 - val_accuracy: 0.1433\n",
            "Epoch 8/300\n",
            "1200/1200 [==============================] - 0s 157us/sample - loss: 2.2996 - accuracy: 0.1192 - val_loss: 2.2976 - val_accuracy: 0.1433\n",
            "Epoch 9/300\n",
            "1200/1200 [==============================] - 0s 142us/sample - loss: 2.2991 - accuracy: 0.1192 - val_loss: 2.2989 - val_accuracy: 0.1433\n",
            "Epoch 10/300\n",
            "1200/1200 [==============================] - 0s 144us/sample - loss: 2.3000 - accuracy: 0.1192 - val_loss: 2.2991 - val_accuracy: 0.1433\n",
            "Epoch 11/300\n",
            "1200/1200 [==============================] - 0s 142us/sample - loss: 2.2996 - accuracy: 0.1192 - val_loss: 2.2994 - val_accuracy: 0.1433\n",
            "Epoch 12/300\n",
            "1200/1200 [==============================] - 0s 142us/sample - loss: 2.2994 - accuracy: 0.1192 - val_loss: 2.2992 - val_accuracy: 0.1433\n",
            "Epoch 13/300\n",
            "1200/1200 [==============================] - 0s 143us/sample - loss: 2.2994 - accuracy: 0.1192 - val_loss: 2.2992 - val_accuracy: 0.1433\n",
            "Epoch 14/300\n",
            "1200/1200 [==============================] - 0s 153us/sample - loss: 2.2997 - accuracy: 0.1192 - val_loss: 2.2992 - val_accuracy: 0.1433\n",
            "Epoch 15/300\n",
            "1200/1200 [==============================] - 0s 153us/sample - loss: 2.2993 - accuracy: 0.1192 - val_loss: 2.2995 - val_accuracy: 0.1433\n",
            "Epoch 16/300\n",
            "1200/1200 [==============================] - 0s 152us/sample - loss: 2.2998 - accuracy: 0.1192 - val_loss: 2.2985 - val_accuracy: 0.1433\n",
            "Epoch 17/300\n",
            "1200/1200 [==============================] - 0s 163us/sample - loss: 2.2993 - accuracy: 0.1192 - val_loss: 2.2993 - val_accuracy: 0.1433\n",
            "Epoch 18/300\n",
            "1200/1200 [==============================] - 0s 141us/sample - loss: 2.2997 - accuracy: 0.1192 - val_loss: 2.2986 - val_accuracy: 0.1433\n",
            "Epoch 19/300\n",
            "1200/1200 [==============================] - 0s 155us/sample - loss: 2.2994 - accuracy: 0.1192 - val_loss: 2.2998 - val_accuracy: 0.1433\n",
            "Epoch 20/300\n",
            "1200/1200 [==============================] - 0s 146us/sample - loss: 2.2998 - accuracy: 0.1192 - val_loss: 2.2978 - val_accuracy: 0.1433\n",
            "Epoch 21/300\n",
            "1200/1200 [==============================] - 0s 141us/sample - loss: 2.2999 - accuracy: 0.1192 - val_loss: 2.2975 - val_accuracy: 0.1433\n",
            "Epoch 22/300\n",
            "1200/1200 [==============================] - 0s 145us/sample - loss: 2.2993 - accuracy: 0.1192 - val_loss: 2.2999 - val_accuracy: 0.1433\n",
            "Epoch 23/300\n",
            "1200/1200 [==============================] - 0s 134us/sample - loss: 2.2997 - accuracy: 0.1192 - val_loss: 2.3008 - val_accuracy: 0.1433\n",
            "Epoch 24/300\n",
            "1200/1200 [==============================] - 0s 139us/sample - loss: 2.2992 - accuracy: 0.1192 - val_loss: 2.2988 - val_accuracy: 0.1433\n",
            "Epoch 25/300\n",
            "1200/1200 [==============================] - 0s 144us/sample - loss: 2.2995 - accuracy: 0.1192 - val_loss: 2.2983 - val_accuracy: 0.1433\n",
            "Epoch 26/300\n",
            "1200/1200 [==============================] - 0s 151us/sample - loss: 2.3002 - accuracy: 0.1192 - val_loss: 2.2987 - val_accuracy: 0.1433\n",
            "Epoch 27/300\n",
            "1200/1200 [==============================] - 0s 143us/sample - loss: 2.2997 - accuracy: 0.1192 - val_loss: 2.2985 - val_accuracy: 0.1433\n",
            "Epoch 28/300\n",
            "1200/1200 [==============================] - 0s 156us/sample - loss: 2.2994 - accuracy: 0.1192 - val_loss: 2.3003 - val_accuracy: 0.1433\n",
            "Epoch 29/300\n",
            "1200/1200 [==============================] - 0s 145us/sample - loss: 2.2995 - accuracy: 0.1192 - val_loss: 2.2994 - val_accuracy: 0.1433\n",
            "Epoch 30/300\n",
            "1200/1200 [==============================] - 0s 141us/sample - loss: 2.2994 - accuracy: 0.1192 - val_loss: 2.2986 - val_accuracy: 0.1433\n",
            "Epoch 31/300\n",
            "1200/1200 [==============================] - 0s 146us/sample - loss: 2.2993 - accuracy: 0.1192 - val_loss: 2.2988 - val_accuracy: 0.1433\n",
            "Epoch 32/300\n",
            "1200/1200 [==============================] - 0s 149us/sample - loss: 2.2997 - accuracy: 0.1192 - val_loss: 2.2981 - val_accuracy: 0.1433\n",
            "Epoch 33/300\n",
            "1200/1200 [==============================] - 0s 148us/sample - loss: 2.2995 - accuracy: 0.1192 - val_loss: 2.2993 - val_accuracy: 0.1433\n",
            "Epoch 34/300\n",
            "1200/1200 [==============================] - 0s 159us/sample - loss: 2.2997 - accuracy: 0.1192 - val_loss: 2.2993 - val_accuracy: 0.1433\n",
            "Epoch 35/300\n",
            "1200/1200 [==============================] - 0s 145us/sample - loss: 2.2995 - accuracy: 0.1192 - val_loss: 2.2990 - val_accuracy: 0.1433\n",
            "Epoch 36/300\n",
            "1200/1200 [==============================] - 0s 142us/sample - loss: 2.2999 - accuracy: 0.1192 - val_loss: 2.2996 - val_accuracy: 0.1433\n",
            "Epoch 37/300\n",
            "1200/1200 [==============================] - 0s 144us/sample - loss: 2.2996 - accuracy: 0.1192 - val_loss: 2.2995 - val_accuracy: 0.1433\n",
            "Epoch 38/300\n",
            "1200/1200 [==============================] - 0s 141us/sample - loss: 2.2995 - accuracy: 0.1192 - val_loss: 2.2988 - val_accuracy: 0.1433\n",
            "Epoch 39/300\n",
            "1200/1200 [==============================] - 0s 139us/sample - loss: 2.3000 - accuracy: 0.1192 - val_loss: 2.2986 - val_accuracy: 0.1433\n",
            "Epoch 40/300\n",
            "1200/1200 [==============================] - 0s 148us/sample - loss: 2.2996 - accuracy: 0.1192 - val_loss: 2.2995 - val_accuracy: 0.1433\n",
            "Epoch 41/300\n",
            "1200/1200 [==============================] - 0s 164us/sample - loss: 2.2999 - accuracy: 0.1192 - val_loss: 2.2988 - val_accuracy: 0.1433\n",
            "Epoch 42/300\n",
            "1200/1200 [==============================] - 0s 153us/sample - loss: 2.2996 - accuracy: 0.1192 - val_loss: 2.2992 - val_accuracy: 0.1433\n",
            "Epoch 43/300\n",
            "1200/1200 [==============================] - 0s 151us/sample - loss: 2.3002 - accuracy: 0.1192 - val_loss: 2.2986 - val_accuracy: 0.1433\n",
            "Epoch 44/300\n",
            "1200/1200 [==============================] - 0s 155us/sample - loss: 2.2995 - accuracy: 0.1192 - val_loss: 2.2982 - val_accuracy: 0.1433\n",
            "Epoch 45/300\n",
            "1200/1200 [==============================] - 0s 146us/sample - loss: 2.2993 - accuracy: 0.1192 - val_loss: 2.2993 - val_accuracy: 0.1433\n",
            "Epoch 46/300\n",
            "1200/1200 [==============================] - 0s 139us/sample - loss: 2.2996 - accuracy: 0.1192 - val_loss: 2.3004 - val_accuracy: 0.1433\n",
            "Epoch 47/300\n",
            "1200/1200 [==============================] - 0s 152us/sample - loss: 2.2999 - accuracy: 0.1192 - val_loss: 2.3000 - val_accuracy: 0.1433\n",
            "Epoch 48/300\n",
            "1200/1200 [==============================] - 0s 138us/sample - loss: 2.2991 - accuracy: 0.1192 - val_loss: 2.2990 - val_accuracy: 0.1433\n",
            "Epoch 49/300\n",
            "1200/1200 [==============================] - 0s 141us/sample - loss: 2.2993 - accuracy: 0.1192 - val_loss: 2.2981 - val_accuracy: 0.1433\n",
            "Epoch 50/300\n",
            "1200/1200 [==============================] - 0s 150us/sample - loss: 2.2997 - accuracy: 0.1192 - val_loss: 2.2994 - val_accuracy: 0.1433\n",
            "Epoch 51/300\n",
            "1200/1200 [==============================] - 0s 155us/sample - loss: 2.2994 - accuracy: 0.1192 - val_loss: 2.2995 - val_accuracy: 0.1433\n",
            "Epoch 52/300\n",
            "1200/1200 [==============================] - 0s 140us/sample - loss: 2.2999 - accuracy: 0.1192 - val_loss: 2.2997 - val_accuracy: 0.1433\n",
            "Epoch 53/300\n",
            "1200/1200 [==============================] - 0s 151us/sample - loss: 2.2996 - accuracy: 0.1192 - val_loss: 2.2996 - val_accuracy: 0.1433\n",
            "Epoch 54/300\n",
            "1200/1200 [==============================] - 0s 145us/sample - loss: 2.2993 - accuracy: 0.1192 - val_loss: 2.2994 - val_accuracy: 0.1433\n",
            "Epoch 55/300\n",
            "1200/1200 [==============================] - 0s 172us/sample - loss: 2.2997 - accuracy: 0.1192 - val_loss: 2.2990 - val_accuracy: 0.1433\n",
            "Epoch 56/300\n",
            "1200/1200 [==============================] - 0s 145us/sample - loss: 2.2994 - accuracy: 0.1192 - val_loss: 2.2990 - val_accuracy: 0.1433\n",
            "Epoch 57/300\n",
            "1200/1200 [==============================] - 0s 149us/sample - loss: 2.2994 - accuracy: 0.1192 - val_loss: 2.2989 - val_accuracy: 0.1433\n",
            "Epoch 58/300\n",
            "1200/1200 [==============================] - 0s 142us/sample - loss: 2.3001 - accuracy: 0.1192 - val_loss: 2.3001 - val_accuracy: 0.1433\n",
            "Epoch 59/300\n",
            "1200/1200 [==============================] - 0s 148us/sample - loss: 2.2992 - accuracy: 0.1192 - val_loss: 2.2998 - val_accuracy: 0.1433\n",
            "Epoch 60/300\n",
            "1200/1200 [==============================] - 0s 144us/sample - loss: 2.2994 - accuracy: 0.1192 - val_loss: 2.2989 - val_accuracy: 0.1433\n",
            "Epoch 61/300\n",
            "1200/1200 [==============================] - 0s 147us/sample - loss: 2.2992 - accuracy: 0.1192 - val_loss: 2.2992 - val_accuracy: 0.1433\n",
            "Epoch 62/300\n",
            "1200/1200 [==============================] - 0s 146us/sample - loss: 2.2992 - accuracy: 0.1192 - val_loss: 2.2988 - val_accuracy: 0.1433\n",
            "Epoch 63/300\n",
            "1200/1200 [==============================] - 0s 148us/sample - loss: 2.2999 - accuracy: 0.1192 - val_loss: 2.2982 - val_accuracy: 0.1433\n",
            "Epoch 64/300\n",
            "1200/1200 [==============================] - 0s 138us/sample - loss: 2.2993 - accuracy: 0.1192 - val_loss: 2.2996 - val_accuracy: 0.1433\n",
            "Epoch 65/300\n",
            "1200/1200 [==============================] - 0s 144us/sample - loss: 2.2996 - accuracy: 0.1192 - val_loss: 2.2984 - val_accuracy: 0.1433\n",
            "Epoch 66/300\n",
            "1200/1200 [==============================] - 0s 144us/sample - loss: 2.2994 - accuracy: 0.1192 - val_loss: 2.2985 - val_accuracy: 0.1433\n",
            "Epoch 67/300\n",
            "1200/1200 [==============================] - 0s 142us/sample - loss: 2.2990 - accuracy: 0.1192 - val_loss: 2.2994 - val_accuracy: 0.1433\n",
            "Epoch 68/300\n",
            "1200/1200 [==============================] - 0s 150us/sample - loss: 2.2986 - accuracy: 0.1192 - val_loss: 2.2979 - val_accuracy: 0.1433\n",
            "Epoch 69/300\n",
            "1200/1200 [==============================] - 0s 141us/sample - loss: 2.2974 - accuracy: 0.1192 - val_loss: 2.2955 - val_accuracy: 0.1433\n",
            "Epoch 70/300\n",
            "1200/1200 [==============================] - 0s 154us/sample - loss: 2.2956 - accuracy: 0.1192 - val_loss: 2.2915 - val_accuracy: 0.1433\n",
            "Epoch 71/300\n",
            "1200/1200 [==============================] - 0s 154us/sample - loss: 2.2912 - accuracy: 0.1192 - val_loss: 2.2868 - val_accuracy: 0.1433\n",
            "Epoch 72/300\n",
            "1200/1200 [==============================] - 0s 145us/sample - loss: 2.2840 - accuracy: 0.1192 - val_loss: 2.2808 - val_accuracy: 0.1433\n",
            "Epoch 73/300\n",
            "1200/1200 [==============================] - 0s 150us/sample - loss: 2.2720 - accuracy: 0.1192 - val_loss: 2.2613 - val_accuracy: 0.1433\n",
            "Epoch 74/300\n",
            "1200/1200 [==============================] - 0s 144us/sample - loss: 2.2500 - accuracy: 0.1825 - val_loss: 2.2373 - val_accuracy: 0.2433\n",
            "Epoch 75/300\n",
            "1200/1200 [==============================] - 0s 135us/sample - loss: 2.2223 - accuracy: 0.2092 - val_loss: 2.2029 - val_accuracy: 0.2300\n",
            "Epoch 76/300\n",
            "1200/1200 [==============================] - 0s 152us/sample - loss: 2.1855 - accuracy: 0.2142 - val_loss: 2.1753 - val_accuracy: 0.2300\n",
            "Epoch 77/300\n",
            "1200/1200 [==============================] - 0s 147us/sample - loss: 2.1545 - accuracy: 0.2117 - val_loss: 2.1261 - val_accuracy: 0.2233\n",
            "Epoch 78/300\n",
            "1200/1200 [==============================] - 0s 143us/sample - loss: 2.1218 - accuracy: 0.2042 - val_loss: 2.1031 - val_accuracy: 0.2300\n",
            "Epoch 79/300\n",
            "1200/1200 [==============================] - 0s 153us/sample - loss: 2.0782 - accuracy: 0.2100 - val_loss: 2.0490 - val_accuracy: 0.2300\n",
            "Epoch 80/300\n",
            "1200/1200 [==============================] - 0s 144us/sample - loss: 2.0423 - accuracy: 0.2117 - val_loss: 2.0409 - val_accuracy: 0.2267\n",
            "Epoch 81/300\n",
            "1200/1200 [==============================] - 0s 142us/sample - loss: 2.0082 - accuracy: 0.2133 - val_loss: 2.0188 - val_accuracy: 0.2300\n",
            "Epoch 82/300\n",
            "1200/1200 [==============================] - 0s 153us/sample - loss: 2.0021 - accuracy: 0.2100 - val_loss: 1.9858 - val_accuracy: 0.2267\n",
            "Epoch 83/300\n",
            "1200/1200 [==============================] - 0s 149us/sample - loss: 1.9959 - accuracy: 0.2083 - val_loss: 1.9944 - val_accuracy: 0.2267\n",
            "Epoch 84/300\n",
            "1200/1200 [==============================] - 0s 143us/sample - loss: 1.9666 - accuracy: 0.2117 - val_loss: 1.9702 - val_accuracy: 0.2267\n",
            "Epoch 85/300\n",
            "1200/1200 [==============================] - 0s 136us/sample - loss: 1.9596 - accuracy: 0.2075 - val_loss: 1.9559 - val_accuracy: 0.2267\n",
            "Epoch 86/300\n",
            "1200/1200 [==============================] - 0s 151us/sample - loss: 1.9533 - accuracy: 0.2117 - val_loss: 1.9789 - val_accuracy: 0.2233\n",
            "Epoch 87/300\n",
            "1200/1200 [==============================] - 0s 141us/sample - loss: 1.9444 - accuracy: 0.2100 - val_loss: 1.9863 - val_accuracy: 0.2367\n",
            "Epoch 88/300\n",
            "1200/1200 [==============================] - 0s 144us/sample - loss: 1.9287 - accuracy: 0.2167 - val_loss: 1.9862 - val_accuracy: 0.2367\n",
            "Epoch 89/300\n",
            "1200/1200 [==============================] - 0s 148us/sample - loss: 1.9438 - accuracy: 0.2133 - val_loss: 1.9824 - val_accuracy: 0.2367\n",
            "Epoch 90/300\n",
            "1200/1200 [==============================] - 0s 147us/sample - loss: 1.9217 - accuracy: 0.2108 - val_loss: 1.9779 - val_accuracy: 0.2267\n",
            "Epoch 91/300\n",
            "1200/1200 [==============================] - 0s 141us/sample - loss: 1.9282 - accuracy: 0.2092 - val_loss: 1.8929 - val_accuracy: 0.2433\n",
            "Epoch 92/300\n",
            "1200/1200 [==============================] - 0s 146us/sample - loss: 1.9373 - accuracy: 0.2125 - val_loss: 1.8835 - val_accuracy: 0.2433\n",
            "Epoch 93/300\n",
            "1200/1200 [==============================] - 0s 153us/sample - loss: 1.9195 - accuracy: 0.2067 - val_loss: 1.8980 - val_accuracy: 0.2433\n",
            "Epoch 94/300\n",
            "1200/1200 [==============================] - 0s 148us/sample - loss: 1.9031 - accuracy: 0.2158 - val_loss: 1.9308 - val_accuracy: 0.2400\n",
            "Epoch 95/300\n",
            "1200/1200 [==============================] - 0s 146us/sample - loss: 1.8969 - accuracy: 0.2158 - val_loss: 1.9286 - val_accuracy: 0.2400\n",
            "Epoch 96/300\n",
            "1200/1200 [==============================] - 0s 149us/sample - loss: 1.8961 - accuracy: 0.2142 - val_loss: 1.9159 - val_accuracy: 0.2400\n",
            "Epoch 97/300\n",
            "1200/1200 [==============================] - 0s 153us/sample - loss: 1.9110 - accuracy: 0.2150 - val_loss: 1.9454 - val_accuracy: 0.2400\n",
            "Epoch 98/300\n",
            "1200/1200 [==============================] - 0s 143us/sample - loss: 1.9018 - accuracy: 0.2150 - val_loss: 1.9400 - val_accuracy: 0.2400\n",
            "Epoch 99/300\n",
            "1200/1200 [==============================] - 0s 143us/sample - loss: 1.9013 - accuracy: 0.2075 - val_loss: 1.9364 - val_accuracy: 0.2300\n",
            "Epoch 100/300\n",
            "1200/1200 [==============================] - 0s 151us/sample - loss: 1.9111 - accuracy: 0.2100 - val_loss: 2.0033 - val_accuracy: 0.2367\n",
            "Epoch 101/300\n",
            "1200/1200 [==============================] - 0s 145us/sample - loss: 1.9621 - accuracy: 0.2092 - val_loss: 2.0070 - val_accuracy: 0.2367\n",
            "Epoch 102/300\n",
            "1200/1200 [==============================] - 0s 154us/sample - loss: 1.9565 - accuracy: 0.1967 - val_loss: 1.9955 - val_accuracy: 0.2267\n",
            "Epoch 103/300\n",
            "1200/1200 [==============================] - 0s 157us/sample - loss: 1.9536 - accuracy: 0.1975 - val_loss: 1.9856 - val_accuracy: 0.2267\n",
            "Epoch 104/300\n",
            "1200/1200 [==============================] - 0s 146us/sample - loss: 1.9543 - accuracy: 0.2050 - val_loss: 1.9073 - val_accuracy: 0.2400\n",
            "Epoch 105/300\n",
            "1200/1200 [==============================] - 0s 151us/sample - loss: 1.8923 - accuracy: 0.2058 - val_loss: 1.8999 - val_accuracy: 0.2267\n",
            "Epoch 106/300\n",
            "1200/1200 [==============================] - 0s 147us/sample - loss: 1.8903 - accuracy: 0.2158 - val_loss: 1.8988 - val_accuracy: 0.2267\n",
            "Epoch 107/300\n",
            "1200/1200 [==============================] - 0s 147us/sample - loss: 1.8887 - accuracy: 0.2167 - val_loss: 1.8995 - val_accuracy: 0.2400\n",
            "Epoch 108/300\n",
            "1200/1200 [==============================] - 0s 149us/sample - loss: 1.8884 - accuracy: 0.2158 - val_loss: 1.8988 - val_accuracy: 0.2400\n",
            "Epoch 109/300\n",
            "1200/1200 [==============================] - 0s 142us/sample - loss: 1.8866 - accuracy: 0.2108 - val_loss: 1.8982 - val_accuracy: 0.2300\n",
            "Epoch 110/300\n",
            "1200/1200 [==============================] - 0s 153us/sample - loss: 1.8859 - accuracy: 0.2067 - val_loss: 1.8946 - val_accuracy: 0.2333\n",
            "Epoch 111/300\n",
            "1200/1200 [==============================] - 0s 146us/sample - loss: 1.8902 - accuracy: 0.2050 - val_loss: 1.8683 - val_accuracy: 0.2333\n",
            "Epoch 112/300\n",
            "1200/1200 [==============================] - 0s 152us/sample - loss: 1.9041 - accuracy: 0.2167 - val_loss: 1.8892 - val_accuracy: 0.2433\n",
            "Epoch 113/300\n",
            "1200/1200 [==============================] - 0s 192us/sample - loss: 1.9188 - accuracy: 0.2017 - val_loss: 1.8795 - val_accuracy: 0.2467\n",
            "Epoch 114/300\n",
            "1200/1200 [==============================] - 0s 156us/sample - loss: 1.8836 - accuracy: 0.2100 - val_loss: 1.9370 - val_accuracy: 0.2300\n",
            "Epoch 115/300\n",
            "1200/1200 [==============================] - 0s 153us/sample - loss: 1.9017 - accuracy: 0.2183 - val_loss: 1.9284 - val_accuracy: 0.2433\n",
            "Epoch 116/300\n",
            "1200/1200 [==============================] - 0s 155us/sample - loss: 1.8812 - accuracy: 0.2042 - val_loss: 1.8798 - val_accuracy: 0.2467\n",
            "Epoch 117/300\n",
            "1200/1200 [==============================] - 0s 162us/sample - loss: 1.8853 - accuracy: 0.2058 - val_loss: 1.8513 - val_accuracy: 0.2433\n",
            "Epoch 118/300\n",
            "1200/1200 [==============================] - 0s 160us/sample - loss: 1.9028 - accuracy: 0.2125 - val_loss: 1.8692 - val_accuracy: 0.2433\n",
            "Epoch 119/300\n",
            "1200/1200 [==============================] - 0s 151us/sample - loss: 1.9496 - accuracy: 0.2000 - val_loss: 1.8810 - val_accuracy: 0.2300\n",
            "Epoch 120/300\n",
            "1200/1200 [==============================] - 0s 155us/sample - loss: 1.9013 - accuracy: 0.2067 - val_loss: 1.8903 - val_accuracy: 0.2333\n",
            "Epoch 121/300\n",
            "1200/1200 [==============================] - 0s 153us/sample - loss: 1.8994 - accuracy: 0.2142 - val_loss: 1.9219 - val_accuracy: 0.2467\n",
            "Epoch 122/300\n",
            "1200/1200 [==============================] - 0s 149us/sample - loss: 1.9039 - accuracy: 0.2142 - val_loss: 1.9135 - val_accuracy: 0.2467\n",
            "Epoch 123/300\n",
            "1200/1200 [==============================] - 0s 153us/sample - loss: 1.9003 - accuracy: 0.2167 - val_loss: 1.9222 - val_accuracy: 0.2467\n",
            "Epoch 124/300\n",
            "1200/1200 [==============================] - 0s 149us/sample - loss: 1.9053 - accuracy: 0.2083 - val_loss: 1.8990 - val_accuracy: 0.2333\n",
            "Epoch 125/300\n",
            "1200/1200 [==============================] - 0s 163us/sample - loss: 1.9014 - accuracy: 0.2025 - val_loss: 1.9711 - val_accuracy: 0.2333\n",
            "Epoch 126/300\n",
            "1200/1200 [==============================] - 0s 156us/sample - loss: 1.9404 - accuracy: 0.2075 - val_loss: 2.0250 - val_accuracy: 0.2367\n",
            "Epoch 127/300\n",
            "1200/1200 [==============================] - 0s 160us/sample - loss: 1.9495 - accuracy: 0.1992 - val_loss: 2.0006 - val_accuracy: 0.2267\n",
            "Epoch 128/300\n",
            "1200/1200 [==============================] - 0s 153us/sample - loss: 1.9305 - accuracy: 0.2100 - val_loss: 1.9943 - val_accuracy: 0.2367\n",
            "Epoch 129/300\n",
            "1200/1200 [==============================] - 0s 152us/sample - loss: 1.9224 - accuracy: 0.2083 - val_loss: 1.9021 - val_accuracy: 0.2467\n",
            "Epoch 130/300\n",
            "1200/1200 [==============================] - 0s 149us/sample - loss: 1.9093 - accuracy: 0.2150 - val_loss: 1.9016 - val_accuracy: 0.2400\n",
            "Epoch 131/300\n",
            "1200/1200 [==============================] - 0s 157us/sample - loss: 1.9074 - accuracy: 0.2150 - val_loss: 1.8984 - val_accuracy: 0.2400\n",
            "Epoch 132/300\n",
            "1200/1200 [==============================] - 0s 158us/sample - loss: 1.8958 - accuracy: 0.2150 - val_loss: 1.9134 - val_accuracy: 0.2467\n",
            "Epoch 133/300\n",
            "1200/1200 [==============================] - 0s 154us/sample - loss: 1.9118 - accuracy: 0.2117 - val_loss: 1.9865 - val_accuracy: 0.2233\n",
            "Epoch 134/300\n",
            "1200/1200 [==============================] - 0s 151us/sample - loss: 1.9175 - accuracy: 0.2108 - val_loss: 1.9527 - val_accuracy: 0.2400\n",
            "Epoch 135/300\n",
            "1200/1200 [==============================] - 0s 149us/sample - loss: 1.9030 - accuracy: 0.2033 - val_loss: 1.9499 - val_accuracy: 0.2300\n",
            "Epoch 136/300\n",
            "1200/1200 [==============================] - 0s 160us/sample - loss: 1.9027 - accuracy: 0.2050 - val_loss: 1.9303 - val_accuracy: 0.2333\n",
            "Epoch 137/300\n",
            "1200/1200 [==============================] - 0s 154us/sample - loss: 1.9001 - accuracy: 0.2200 - val_loss: 1.9382 - val_accuracy: 0.2433\n",
            "Epoch 138/300\n",
            "1200/1200 [==============================] - 0s 152us/sample - loss: 1.9004 - accuracy: 0.2092 - val_loss: 1.9391 - val_accuracy: 0.2433\n",
            "Epoch 139/300\n",
            "1200/1200 [==============================] - 0s 145us/sample - loss: 1.8976 - accuracy: 0.2142 - val_loss: 1.9350 - val_accuracy: 0.2433\n",
            "Epoch 140/300\n",
            "1200/1200 [==============================] - 0s 162us/sample - loss: 1.8971 - accuracy: 0.2142 - val_loss: 1.9357 - val_accuracy: 0.2467\n",
            "Epoch 141/300\n",
            "1200/1200 [==============================] - 0s 152us/sample - loss: 1.8971 - accuracy: 0.2142 - val_loss: 1.9355 - val_accuracy: 0.2433\n",
            "Epoch 142/300\n",
            "1200/1200 [==============================] - 0s 162us/sample - loss: 1.8977 - accuracy: 0.2142 - val_loss: 1.9355 - val_accuracy: 0.2433\n",
            "Epoch 143/300\n",
            "1200/1200 [==============================] - 0s 157us/sample - loss: 1.8973 - accuracy: 0.2142 - val_loss: 1.9359 - val_accuracy: 0.2433\n",
            "Epoch 144/300\n",
            "1200/1200 [==============================] - 0s 149us/sample - loss: 1.8972 - accuracy: 0.2133 - val_loss: 1.9381 - val_accuracy: 0.2300\n",
            "Epoch 145/300\n",
            "1200/1200 [==============================] - 0s 155us/sample - loss: 1.8973 - accuracy: 0.2142 - val_loss: 1.9369 - val_accuracy: 0.2300\n",
            "Epoch 146/300\n",
            "1200/1200 [==============================] - 0s 162us/sample - loss: 1.8967 - accuracy: 0.2108 - val_loss: 1.9364 - val_accuracy: 0.2433\n",
            "Epoch 147/300\n",
            "1200/1200 [==============================] - 0s 161us/sample - loss: 1.8967 - accuracy: 0.2142 - val_loss: 1.9370 - val_accuracy: 0.2433\n",
            "Epoch 148/300\n",
            "1200/1200 [==============================] - 0s 161us/sample - loss: 1.8967 - accuracy: 0.2083 - val_loss: 1.9332 - val_accuracy: 0.2300\n",
            "Epoch 149/300\n",
            "1200/1200 [==============================] - 0s 164us/sample - loss: 1.8966 - accuracy: 0.2075 - val_loss: 1.9312 - val_accuracy: 0.2500\n",
            "Epoch 150/300\n",
            "1200/1200 [==============================] - 0s 156us/sample - loss: 1.8963 - accuracy: 0.2042 - val_loss: 1.9325 - val_accuracy: 0.2300\n",
            "Epoch 151/300\n",
            "1200/1200 [==============================] - 0s 161us/sample - loss: 1.8964 - accuracy: 0.2083 - val_loss: 1.9362 - val_accuracy: 0.2433\n",
            "Epoch 152/300\n",
            "1200/1200 [==============================] - 0s 161us/sample - loss: 1.8961 - accuracy: 0.2100 - val_loss: 1.9369 - val_accuracy: 0.2300\n",
            "Epoch 153/300\n",
            "1200/1200 [==============================] - 0s 149us/sample - loss: 1.8963 - accuracy: 0.2108 - val_loss: 1.9358 - val_accuracy: 0.2433\n",
            "Epoch 154/300\n",
            "1200/1200 [==============================] - 0s 147us/sample - loss: 1.8961 - accuracy: 0.2092 - val_loss: 1.9365 - val_accuracy: 0.2300\n",
            "Epoch 155/300\n",
            "1200/1200 [==============================] - 0s 159us/sample - loss: 1.8960 - accuracy: 0.2100 - val_loss: 1.9359 - val_accuracy: 0.2433\n",
            "Epoch 156/300\n",
            "1200/1200 [==============================] - 0s 153us/sample - loss: 1.8961 - accuracy: 0.2083 - val_loss: 1.9359 - val_accuracy: 0.2300\n",
            "Epoch 157/300\n",
            "1200/1200 [==============================] - 0s 172us/sample - loss: 1.8964 - accuracy: 0.1958 - val_loss: 1.9369 - val_accuracy: 0.2433\n",
            "Epoch 158/300\n",
            "1200/1200 [==============================] - 0s 147us/sample - loss: 1.8963 - accuracy: 0.2142 - val_loss: 1.9358 - val_accuracy: 0.2433\n",
            "Epoch 159/300\n",
            "1200/1200 [==============================] - 0s 164us/sample - loss: 1.8962 - accuracy: 0.2100 - val_loss: 1.9372 - val_accuracy: 0.2433\n",
            "Epoch 160/300\n",
            "1200/1200 [==============================] - 0s 155us/sample - loss: 1.8964 - accuracy: 0.2100 - val_loss: 1.9356 - val_accuracy: 0.2300\n",
            "Epoch 161/300\n",
            "1200/1200 [==============================] - 0s 165us/sample - loss: 1.8961 - accuracy: 0.2133 - val_loss: 1.9355 - val_accuracy: 0.2433\n",
            "Epoch 162/300\n",
            "1200/1200 [==============================] - 0s 158us/sample - loss: 1.8960 - accuracy: 0.2067 - val_loss: 1.9363 - val_accuracy: 0.2300\n",
            "Epoch 163/300\n",
            "1200/1200 [==============================] - 0s 155us/sample - loss: 1.8962 - accuracy: 0.2125 - val_loss: 1.9366 - val_accuracy: 0.2433\n",
            "Epoch 164/300\n",
            "1200/1200 [==============================] - 0s 152us/sample - loss: 1.8959 - accuracy: 0.2058 - val_loss: 1.9354 - val_accuracy: 0.2300\n",
            "Epoch 165/300\n",
            "1200/1200 [==============================] - 0s 161us/sample - loss: 1.8962 - accuracy: 0.2108 - val_loss: 1.9351 - val_accuracy: 0.2433\n",
            "Epoch 166/300\n",
            "1200/1200 [==============================] - 0s 156us/sample - loss: 1.8958 - accuracy: 0.2075 - val_loss: 1.9378 - val_accuracy: 0.2300\n",
            "Epoch 167/300\n",
            "1200/1200 [==============================] - 0s 165us/sample - loss: 1.8959 - accuracy: 0.2108 - val_loss: 1.9363 - val_accuracy: 0.2433\n",
            "Epoch 168/300\n",
            "1200/1200 [==============================] - 0s 135us/sample - loss: 1.8956 - accuracy: 0.2083 - val_loss: 1.9361 - val_accuracy: 0.2433\n",
            "Epoch 169/300\n",
            "1200/1200 [==============================] - 0s 147us/sample - loss: 1.8960 - accuracy: 0.2100 - val_loss: 1.9358 - val_accuracy: 0.2433\n",
            "Epoch 170/300\n",
            "1200/1200 [==============================] - 0s 148us/sample - loss: 1.8958 - accuracy: 0.1900 - val_loss: 1.9349 - val_accuracy: 0.2300\n",
            "Epoch 171/300\n",
            "1200/1200 [==============================] - 0s 139us/sample - loss: 1.8958 - accuracy: 0.2008 - val_loss: 1.9352 - val_accuracy: 0.2300\n",
            "Epoch 172/300\n",
            "1200/1200 [==============================] - 0s 149us/sample - loss: 1.8959 - accuracy: 0.2067 - val_loss: 1.9353 - val_accuracy: 0.2433\n",
            "Epoch 173/300\n",
            "1200/1200 [==============================] - 0s 142us/sample - loss: 1.8938 - accuracy: 0.2083 - val_loss: 1.9358 - val_accuracy: 0.2300\n",
            "Epoch 174/300\n",
            "1200/1200 [==============================] - 0s 155us/sample - loss: 1.8936 - accuracy: 0.2142 - val_loss: 1.9365 - val_accuracy: 0.2300\n",
            "Epoch 175/300\n",
            "1200/1200 [==============================] - 0s 151us/sample - loss: 1.8937 - accuracy: 0.2142 - val_loss: 1.9352 - val_accuracy: 0.2433\n",
            "Epoch 176/300\n",
            "1200/1200 [==============================] - 0s 141us/sample - loss: 1.8938 - accuracy: 0.1975 - val_loss: 1.9353 - val_accuracy: 0.2433\n",
            "Epoch 177/300\n",
            "1200/1200 [==============================] - 0s 145us/sample - loss: 1.8937 - accuracy: 0.2083 - val_loss: 1.9374 - val_accuracy: 0.2300\n",
            "Epoch 178/300\n",
            "1200/1200 [==============================] - 0s 148us/sample - loss: 1.8936 - accuracy: 0.2100 - val_loss: 1.9371 - val_accuracy: 0.2433\n",
            "Epoch 179/300\n",
            "1200/1200 [==============================] - 0s 157us/sample - loss: 1.8937 - accuracy: 0.2142 - val_loss: 1.9367 - val_accuracy: 0.2433\n",
            "Epoch 180/300\n",
            "1200/1200 [==============================] - 0s 148us/sample - loss: 1.8935 - accuracy: 0.2142 - val_loss: 1.9346 - val_accuracy: 0.2433\n",
            "Epoch 181/300\n",
            "1200/1200 [==============================] - 0s 157us/sample - loss: 1.8938 - accuracy: 0.2008 - val_loss: 1.9360 - val_accuracy: 0.2300\n",
            "Epoch 182/300\n",
            "1200/1200 [==============================] - 0s 157us/sample - loss: 1.8935 - accuracy: 0.2142 - val_loss: 1.9372 - val_accuracy: 0.2300\n",
            "Epoch 183/300\n",
            "1200/1200 [==============================] - 0s 144us/sample - loss: 1.8937 - accuracy: 0.2017 - val_loss: 1.9371 - val_accuracy: 0.2433\n",
            "Epoch 184/300\n",
            "1200/1200 [==============================] - 0s 155us/sample - loss: 1.8939 - accuracy: 0.2142 - val_loss: 1.9368 - val_accuracy: 0.2433\n",
            "Epoch 185/300\n",
            "1200/1200 [==============================] - 0s 141us/sample - loss: 1.8935 - accuracy: 0.2058 - val_loss: 1.9372 - val_accuracy: 0.2300\n",
            "Epoch 186/300\n",
            "1200/1200 [==============================] - 0s 154us/sample - loss: 1.8936 - accuracy: 0.2092 - val_loss: 1.9375 - val_accuracy: 0.2433\n",
            "Epoch 187/300\n",
            "1200/1200 [==============================] - 0s 166us/sample - loss: 1.8937 - accuracy: 0.2142 - val_loss: 1.9371 - val_accuracy: 0.2433\n",
            "Epoch 188/300\n",
            "1200/1200 [==============================] - 0s 153us/sample - loss: 1.8939 - accuracy: 0.2075 - val_loss: 1.9367 - val_accuracy: 0.2300\n",
            "Epoch 189/300\n",
            "1200/1200 [==============================] - 0s 152us/sample - loss: 1.8937 - accuracy: 0.2125 - val_loss: 1.9373 - val_accuracy: 0.2433\n",
            "Epoch 190/300\n",
            "1200/1200 [==============================] - 0s 147us/sample - loss: 1.8937 - accuracy: 0.2142 - val_loss: 1.9378 - val_accuracy: 0.2433\n",
            "Epoch 191/300\n",
            "1200/1200 [==============================] - 0s 143us/sample - loss: 1.8937 - accuracy: 0.1967 - val_loss: 1.9385 - val_accuracy: 0.2433\n",
            "Epoch 192/300\n",
            "1200/1200 [==============================] - 0s 149us/sample - loss: 1.8935 - accuracy: 0.2142 - val_loss: 1.9371 - val_accuracy: 0.2433\n",
            "Epoch 193/300\n",
            "1200/1200 [==============================] - 0s 138us/sample - loss: 1.8934 - accuracy: 0.2067 - val_loss: 1.9371 - val_accuracy: 0.2433\n",
            "Epoch 194/300\n",
            "1200/1200 [==============================] - 0s 142us/sample - loss: 1.8936 - accuracy: 0.2142 - val_loss: 1.9375 - val_accuracy: 0.2433\n",
            "Epoch 195/300\n",
            "1200/1200 [==============================] - 0s 144us/sample - loss: 1.8933 - accuracy: 0.2133 - val_loss: 1.9375 - val_accuracy: 0.2300\n",
            "Epoch 196/300\n",
            "1200/1200 [==============================] - 0s 145us/sample - loss: 1.8936 - accuracy: 0.2017 - val_loss: 1.9375 - val_accuracy: 0.2300\n",
            "Epoch 197/300\n",
            "1200/1200 [==============================] - 0s 139us/sample - loss: 1.8936 - accuracy: 0.2058 - val_loss: 1.9369 - val_accuracy: 0.2433\n",
            "Epoch 198/300\n",
            "1200/1200 [==============================] - 0s 153us/sample - loss: 1.8936 - accuracy: 0.2017 - val_loss: 1.9382 - val_accuracy: 0.2300\n",
            "Epoch 199/300\n",
            "1200/1200 [==============================] - 0s 146us/sample - loss: 1.8934 - accuracy: 0.2142 - val_loss: 1.9372 - val_accuracy: 0.2300\n",
            "Epoch 200/300\n",
            "1200/1200 [==============================] - 0s 153us/sample - loss: 1.8937 - accuracy: 0.2100 - val_loss: 1.9367 - val_accuracy: 0.2433\n",
            "Epoch 201/300\n",
            "1200/1200 [==============================] - 0s 137us/sample - loss: 1.8939 - accuracy: 0.2008 - val_loss: 1.9388 - val_accuracy: 0.2300\n",
            "Epoch 202/300\n",
            "1200/1200 [==============================] - 0s 144us/sample - loss: 1.8936 - accuracy: 0.2042 - val_loss: 1.9372 - val_accuracy: 0.2433\n",
            "Epoch 203/300\n",
            "1200/1200 [==============================] - 0s 159us/sample - loss: 1.8934 - accuracy: 0.2050 - val_loss: 1.9375 - val_accuracy: 0.2300\n",
            "Epoch 204/300\n",
            "1200/1200 [==============================] - 0s 153us/sample - loss: 1.8935 - accuracy: 0.2133 - val_loss: 1.9387 - val_accuracy: 0.2433\n",
            "Epoch 205/300\n",
            "1200/1200 [==============================] - 0s 147us/sample - loss: 1.8931 - accuracy: 0.2083 - val_loss: 1.9385 - val_accuracy: 0.2433\n",
            "Epoch 206/300\n",
            "1200/1200 [==============================] - 0s 144us/sample - loss: 1.8931 - accuracy: 0.2142 - val_loss: 1.9377 - val_accuracy: 0.2433\n",
            "Epoch 207/300\n",
            "1200/1200 [==============================] - 0s 135us/sample - loss: 1.8935 - accuracy: 0.2017 - val_loss: 1.9370 - val_accuracy: 0.2433\n",
            "Epoch 208/300\n",
            "1200/1200 [==============================] - 0s 147us/sample - loss: 1.8933 - accuracy: 0.2133 - val_loss: 1.9374 - val_accuracy: 0.2300\n",
            "Epoch 209/300\n",
            "1200/1200 [==============================] - 0s 142us/sample - loss: 1.8935 - accuracy: 0.2142 - val_loss: 1.9374 - val_accuracy: 0.2300\n",
            "Epoch 210/300\n",
            "1200/1200 [==============================] - 0s 151us/sample - loss: 1.8935 - accuracy: 0.2142 - val_loss: 1.9375 - val_accuracy: 0.2433\n",
            "Epoch 211/300\n",
            "1200/1200 [==============================] - 0s 159us/sample - loss: 1.8939 - accuracy: 0.2142 - val_loss: 1.9365 - val_accuracy: 0.2433\n",
            "Epoch 212/300\n",
            "1200/1200 [==============================] - 0s 153us/sample - loss: 1.8933 - accuracy: 0.2142 - val_loss: 1.9369 - val_accuracy: 0.2433\n",
            "Epoch 213/300\n",
            "1200/1200 [==============================] - 0s 141us/sample - loss: 1.8936 - accuracy: 0.2050 - val_loss: 1.9378 - val_accuracy: 0.2300\n",
            "Epoch 214/300\n",
            "1200/1200 [==============================] - 0s 146us/sample - loss: 1.8934 - accuracy: 0.2117 - val_loss: 1.9363 - val_accuracy: 0.2433\n",
            "Epoch 215/300\n",
            "1200/1200 [==============================] - 0s 150us/sample - loss: 1.8938 - accuracy: 0.1917 - val_loss: 1.9267 - val_accuracy: 0.2467\n",
            "Epoch 216/300\n",
            "1200/1200 [==============================] - 0s 145us/sample - loss: 1.8953 - accuracy: 0.2050 - val_loss: 1.9255 - val_accuracy: 0.2467\n",
            "Epoch 217/300\n",
            "1200/1200 [==============================] - 0s 152us/sample - loss: 1.8991 - accuracy: 0.2092 - val_loss: 1.8848 - val_accuracy: 0.2467\n",
            "Epoch 218/300\n",
            "1200/1200 [==============================] - 0s 145us/sample - loss: 1.8932 - accuracy: 0.2175 - val_loss: 1.8752 - val_accuracy: 0.2467\n",
            "Epoch 219/300\n",
            "1200/1200 [==============================] - 0s 144us/sample - loss: 1.8906 - accuracy: 0.2175 - val_loss: 1.8865 - val_accuracy: 0.2400\n",
            "Epoch 220/300\n",
            "1200/1200 [==============================] - 0s 148us/sample - loss: 1.8832 - accuracy: 0.2108 - val_loss: 1.8869 - val_accuracy: 0.2333\n",
            "Epoch 221/300\n",
            "1200/1200 [==============================] - 0s 149us/sample - loss: 1.8863 - accuracy: 0.2158 - val_loss: 1.9014 - val_accuracy: 0.2300\n",
            "Epoch 222/300\n",
            "1200/1200 [==============================] - 0s 145us/sample - loss: 1.8814 - accuracy: 0.2075 - val_loss: 1.8706 - val_accuracy: 0.2333\n",
            "Epoch 223/300\n",
            "1200/1200 [==============================] - 0s 147us/sample - loss: 1.8740 - accuracy: 0.2167 - val_loss: 1.8869 - val_accuracy: 0.2433\n",
            "Epoch 224/300\n",
            "1200/1200 [==============================] - 0s 142us/sample - loss: 1.8790 - accuracy: 0.2158 - val_loss: 1.9079 - val_accuracy: 0.2433\n",
            "Epoch 225/300\n",
            "1200/1200 [==============================] - 0s 166us/sample - loss: 1.8972 - accuracy: 0.2133 - val_loss: 1.9328 - val_accuracy: 0.2267\n",
            "Epoch 226/300\n",
            "1200/1200 [==============================] - 0s 149us/sample - loss: 1.8963 - accuracy: 0.2142 - val_loss: 1.9341 - val_accuracy: 0.2233\n",
            "Epoch 227/300\n",
            "1200/1200 [==============================] - 0s 149us/sample - loss: 1.8960 - accuracy: 0.2117 - val_loss: 1.9324 - val_accuracy: 0.2367\n",
            "Epoch 228/300\n",
            "1200/1200 [==============================] - 0s 150us/sample - loss: 1.8959 - accuracy: 0.2067 - val_loss: 1.9284 - val_accuracy: 0.2233\n",
            "Epoch 229/300\n",
            "1200/1200 [==============================] - 0s 147us/sample - loss: 1.9000 - accuracy: 0.2133 - val_loss: 1.9415 - val_accuracy: 0.2367\n",
            "Epoch 230/300\n",
            "1200/1200 [==============================] - 0s 144us/sample - loss: 1.8905 - accuracy: 0.2100 - val_loss: 1.8739 - val_accuracy: 0.2333\n",
            "Epoch 231/300\n",
            "1200/1200 [==============================] - 0s 142us/sample - loss: 1.8812 - accuracy: 0.2108 - val_loss: 1.8405 - val_accuracy: 0.2467\n",
            "Epoch 232/300\n",
            "1200/1200 [==============================] - 0s 144us/sample - loss: 1.8744 - accuracy: 0.2083 - val_loss: 1.8541 - val_accuracy: 0.2467\n",
            "Epoch 233/300\n",
            "1200/1200 [==============================] - 0s 139us/sample - loss: 1.8926 - accuracy: 0.2083 - val_loss: 1.9261 - val_accuracy: 0.2367\n",
            "Epoch 234/300\n",
            "1200/1200 [==============================] - 0s 144us/sample - loss: 1.8831 - accuracy: 0.2100 - val_loss: 1.8780 - val_accuracy: 0.2333\n",
            "Epoch 235/300\n",
            "1200/1200 [==============================] - 0s 145us/sample - loss: 1.9044 - accuracy: 0.2050 - val_loss: 1.8513 - val_accuracy: 0.2433\n",
            "Epoch 236/300\n",
            "1200/1200 [==============================] - 0s 148us/sample - loss: 1.9051 - accuracy: 0.2083 - val_loss: 1.8739 - val_accuracy: 0.2400\n",
            "Epoch 237/300\n",
            "1200/1200 [==============================] - 0s 150us/sample - loss: 2.0177 - accuracy: 0.2067 - val_loss: 2.0052 - val_accuracy: 0.2267\n",
            "Epoch 238/300\n",
            "1200/1200 [==============================] - 0s 147us/sample - loss: 1.9513 - accuracy: 0.2058 - val_loss: 1.8570 - val_accuracy: 0.2433\n",
            "Epoch 239/300\n",
            "1200/1200 [==============================] - 0s 145us/sample - loss: 1.9021 - accuracy: 0.2100 - val_loss: 1.8551 - val_accuracy: 0.2267\n",
            "Epoch 240/300\n",
            "1200/1200 [==============================] - 0s 144us/sample - loss: 1.8819 - accuracy: 0.2083 - val_loss: 1.8478 - val_accuracy: 0.2300\n",
            "Epoch 241/300\n",
            "1200/1200 [==============================] - 0s 159us/sample - loss: 1.8765 - accuracy: 0.2150 - val_loss: 1.8405 - val_accuracy: 0.2300\n",
            "Epoch 242/300\n",
            "1200/1200 [==============================] - 0s 153us/sample - loss: 1.8674 - accuracy: 0.2075 - val_loss: 1.8766 - val_accuracy: 0.2267\n",
            "Epoch 243/300\n",
            "1200/1200 [==============================] - 0s 146us/sample - loss: 1.8700 - accuracy: 0.2058 - val_loss: 1.8396 - val_accuracy: 0.2300\n",
            "Epoch 244/300\n",
            "1200/1200 [==============================] - 0s 154us/sample - loss: 1.8693 - accuracy: 0.2142 - val_loss: 1.8552 - val_accuracy: 0.2300\n",
            "Epoch 245/300\n",
            "1200/1200 [==============================] - 0s 161us/sample - loss: 1.8636 - accuracy: 0.2142 - val_loss: 1.8728 - val_accuracy: 0.2267\n",
            "Epoch 246/300\n",
            "1200/1200 [==============================] - 0s 152us/sample - loss: 1.8617 - accuracy: 0.2067 - val_loss: 1.8722 - val_accuracy: 0.2267\n",
            "Epoch 247/300\n",
            "1200/1200 [==============================] - 0s 150us/sample - loss: 1.8679 - accuracy: 0.2142 - val_loss: 1.8704 - val_accuracy: 0.2267\n",
            "Epoch 248/300\n",
            "1200/1200 [==============================] - 0s 146us/sample - loss: 1.8606 - accuracy: 0.2158 - val_loss: 1.8288 - val_accuracy: 0.2300\n",
            "Epoch 249/300\n",
            "1200/1200 [==============================] - 0s 154us/sample - loss: 1.8607 - accuracy: 0.2158 - val_loss: 1.8348 - val_accuracy: 0.2300\n",
            "Epoch 250/300\n",
            "1200/1200 [==============================] - 0s 161us/sample - loss: 1.8648 - accuracy: 0.2133 - val_loss: 1.8344 - val_accuracy: 0.2400\n",
            "Epoch 251/300\n",
            "1200/1200 [==============================] - 0s 145us/sample - loss: 1.8602 - accuracy: 0.2117 - val_loss: 1.8339 - val_accuracy: 0.2300\n",
            "Epoch 252/300\n",
            "1200/1200 [==============================] - 0s 148us/sample - loss: 1.8594 - accuracy: 0.2150 - val_loss: 1.8351 - val_accuracy: 0.2400\n",
            "Epoch 253/300\n",
            "1200/1200 [==============================] - 0s 152us/sample - loss: 1.8592 - accuracy: 0.2100 - val_loss: 1.8342 - val_accuracy: 0.2300\n",
            "Epoch 254/300\n",
            "1200/1200 [==============================] - 0s 148us/sample - loss: 1.8603 - accuracy: 0.2108 - val_loss: 1.8320 - val_accuracy: 0.2400\n",
            "Epoch 255/300\n",
            "1200/1200 [==============================] - 0s 148us/sample - loss: 1.8606 - accuracy: 0.2092 - val_loss: 1.8330 - val_accuracy: 0.2400\n",
            "Epoch 256/300\n",
            "1200/1200 [==============================] - 0s 150us/sample - loss: 1.8602 - accuracy: 0.2150 - val_loss: 1.8329 - val_accuracy: 0.2400\n",
            "Epoch 257/300\n",
            "1200/1200 [==============================] - 0s 156us/sample - loss: 1.8605 - accuracy: 0.2150 - val_loss: 1.8333 - val_accuracy: 0.2400\n",
            "Epoch 258/300\n",
            "1200/1200 [==============================] - 0s 152us/sample - loss: 1.8602 - accuracy: 0.2150 - val_loss: 1.8330 - val_accuracy: 0.2433\n",
            "Epoch 259/300\n",
            "1200/1200 [==============================] - 0s 142us/sample - loss: 1.8597 - accuracy: 0.2150 - val_loss: 1.8322 - val_accuracy: 0.2400\n",
            "Epoch 260/300\n",
            "1200/1200 [==============================] - 0s 146us/sample - loss: 1.8597 - accuracy: 0.2150 - val_loss: 1.8320 - val_accuracy: 0.2400\n",
            "Epoch 261/300\n",
            "1200/1200 [==============================] - 0s 158us/sample - loss: 1.8600 - accuracy: 0.2150 - val_loss: 1.8344 - val_accuracy: 0.2400\n",
            "Epoch 262/300\n",
            "1200/1200 [==============================] - 0s 145us/sample - loss: 1.8597 - accuracy: 0.2100 - val_loss: 1.8360 - val_accuracy: 0.2300\n",
            "Epoch 263/300\n",
            "1200/1200 [==============================] - 0s 147us/sample - loss: 1.8594 - accuracy: 0.2125 - val_loss: 1.8478 - val_accuracy: 0.2367\n",
            "Epoch 264/300\n",
            "1200/1200 [==============================] - 0s 150us/sample - loss: 1.8622 - accuracy: 0.2125 - val_loss: 1.8233 - val_accuracy: 0.2400\n",
            "Epoch 265/300\n",
            "1200/1200 [==============================] - 0s 147us/sample - loss: 1.8827 - accuracy: 0.2083 - val_loss: 1.8281 - val_accuracy: 0.2400\n",
            "Epoch 266/300\n",
            "1200/1200 [==============================] - 0s 143us/sample - loss: 1.8599 - accuracy: 0.2167 - val_loss: 1.8570 - val_accuracy: 0.2367\n",
            "Epoch 267/300\n",
            "1200/1200 [==============================] - 0s 150us/sample - loss: 1.8582 - accuracy: 0.2075 - val_loss: 1.8619 - val_accuracy: 0.2367\n",
            "Epoch 268/300\n",
            "1200/1200 [==============================] - 0s 150us/sample - loss: 1.8551 - accuracy: 0.2158 - val_loss: 1.8587 - val_accuracy: 0.2367\n",
            "Epoch 269/300\n",
            "1200/1200 [==============================] - 0s 140us/sample - loss: 1.8503 - accuracy: 0.2108 - val_loss: 1.8561 - val_accuracy: 0.2367\n",
            "Epoch 270/300\n",
            "1200/1200 [==============================] - 0s 145us/sample - loss: 1.8529 - accuracy: 0.2167 - val_loss: 1.8433 - val_accuracy: 0.2400\n",
            "Epoch 271/300\n",
            "1200/1200 [==============================] - 0s 144us/sample - loss: 1.8533 - accuracy: 0.2158 - val_loss: 1.8430 - val_accuracy: 0.2400\n",
            "Epoch 272/300\n",
            "1200/1200 [==============================] - 0s 144us/sample - loss: 1.8593 - accuracy: 0.2117 - val_loss: 1.8615 - val_accuracy: 0.2300\n",
            "Epoch 273/300\n",
            "1200/1200 [==============================] - 0s 148us/sample - loss: 1.8555 - accuracy: 0.2117 - val_loss: 1.8564 - val_accuracy: 0.2400\n",
            "Epoch 274/300\n",
            "1200/1200 [==============================] - 0s 145us/sample - loss: 1.8581 - accuracy: 0.2150 - val_loss: 1.8597 - val_accuracy: 0.2367\n",
            "Epoch 275/300\n",
            "1200/1200 [==============================] - 0s 149us/sample - loss: 1.8784 - accuracy: 0.2133 - val_loss: 1.8538 - val_accuracy: 0.2333\n",
            "Epoch 276/300\n",
            "1200/1200 [==============================] - 0s 147us/sample - loss: 1.8766 - accuracy: 0.2150 - val_loss: 1.8526 - val_accuracy: 0.2333\n",
            "Epoch 277/300\n",
            "1200/1200 [==============================] - 0s 147us/sample - loss: 1.8649 - accuracy: 0.2050 - val_loss: 1.8549 - val_accuracy: 0.2367\n",
            "Epoch 278/300\n",
            "1200/1200 [==============================] - 0s 144us/sample - loss: 1.8680 - accuracy: 0.2167 - val_loss: 1.8555 - val_accuracy: 0.2333\n",
            "Epoch 279/300\n",
            "1200/1200 [==============================] - 0s 151us/sample - loss: 1.8831 - accuracy: 0.2158 - val_loss: 1.8701 - val_accuracy: 0.2300\n",
            "Epoch 280/300\n",
            "1200/1200 [==============================] - 0s 141us/sample - loss: 1.8585 - accuracy: 0.2108 - val_loss: 1.8485 - val_accuracy: 0.2433\n",
            "Epoch 281/300\n",
            "1200/1200 [==============================] - 0s 160us/sample - loss: 1.8626 - accuracy: 0.2108 - val_loss: 1.8658 - val_accuracy: 0.2300\n",
            "Epoch 282/300\n",
            "1200/1200 [==============================] - 0s 151us/sample - loss: 1.9623 - accuracy: 0.2000 - val_loss: 1.8564 - val_accuracy: 0.2367\n",
            "Epoch 283/300\n",
            "1200/1200 [==============================] - 0s 150us/sample - loss: 1.8877 - accuracy: 0.2150 - val_loss: 1.8483 - val_accuracy: 0.2300\n",
            "Epoch 284/300\n",
            "1200/1200 [==============================] - 0s 145us/sample - loss: 1.8646 - accuracy: 0.2158 - val_loss: 1.8420 - val_accuracy: 0.2300\n",
            "Epoch 285/300\n",
            "1200/1200 [==============================] - 0s 148us/sample - loss: 1.8592 - accuracy: 0.2150 - val_loss: 1.8343 - val_accuracy: 0.2300\n",
            "Epoch 286/300\n",
            "1200/1200 [==============================] - 0s 147us/sample - loss: 1.8561 - accuracy: 0.2158 - val_loss: 1.8322 - val_accuracy: 0.2300\n",
            "Epoch 287/300\n",
            "1200/1200 [==============================] - 0s 143us/sample - loss: 1.8646 - accuracy: 0.2042 - val_loss: 1.8192 - val_accuracy: 0.2300\n",
            "Epoch 288/300\n",
            "1200/1200 [==============================] - 0s 157us/sample - loss: 1.8529 - accuracy: 0.2125 - val_loss: 1.8257 - val_accuracy: 0.2333\n",
            "Epoch 289/300\n",
            "1200/1200 [==============================] - 0s 156us/sample - loss: 1.8491 - accuracy: 0.2150 - val_loss: 1.8196 - val_accuracy: 0.2467\n",
            "Epoch 290/300\n",
            "1200/1200 [==============================] - 0s 152us/sample - loss: 1.8469 - accuracy: 0.2133 - val_loss: 1.8145 - val_accuracy: 0.2333\n",
            "Epoch 291/300\n",
            "1200/1200 [==============================] - 0s 152us/sample - loss: 1.8456 - accuracy: 0.2150 - val_loss: 1.8184 - val_accuracy: 0.2333\n",
            "Epoch 292/300\n",
            "1200/1200 [==============================] - 0s 154us/sample - loss: 1.8411 - accuracy: 0.2158 - val_loss: 1.8177 - val_accuracy: 0.2433\n",
            "Epoch 293/300\n",
            "1200/1200 [==============================] - 0s 140us/sample - loss: 1.8416 - accuracy: 0.2058 - val_loss: 1.8182 - val_accuracy: 0.2333\n",
            "Epoch 294/300\n",
            "1200/1200 [==============================] - 0s 147us/sample - loss: 1.8377 - accuracy: 0.2142 - val_loss: 1.8167 - val_accuracy: 0.2433\n",
            "Epoch 295/300\n",
            "1200/1200 [==============================] - 0s 153us/sample - loss: 1.8376 - accuracy: 0.2175 - val_loss: 1.8154 - val_accuracy: 0.2433\n",
            "Epoch 296/300\n",
            "1200/1200 [==============================] - 0s 141us/sample - loss: 1.8375 - accuracy: 0.2108 - val_loss: 1.8159 - val_accuracy: 0.2333\n",
            "Epoch 297/300\n",
            "1200/1200 [==============================] - 0s 148us/sample - loss: 1.8368 - accuracy: 0.2058 - val_loss: 1.8119 - val_accuracy: 0.2333\n",
            "Epoch 298/300\n",
            "1200/1200 [==============================] - 0s 142us/sample - loss: 1.8374 - accuracy: 0.2142 - val_loss: 1.8111 - val_accuracy: 0.2433\n",
            "Epoch 299/300\n",
            "1200/1200 [==============================] - 0s 161us/sample - loss: 1.8394 - accuracy: 0.2167 - val_loss: 1.8156 - val_accuracy: 0.2433\n",
            "Epoch 300/300\n",
            "1200/1200 [==============================] - 0s 153us/sample - loss: 1.8416 - accuracy: 0.2117 - val_loss: 1.8115 - val_accuracy: 0.2333\n"
          ],
          "name": "stdout"
        },
        {
          "output_type": "execute_result",
          "data": {
            "text/plain": [
              "<tensorflow.python.keras.callbacks.History at 0x7effcad722b0>"
            ]
          },
          "metadata": {
            "tags": []
          },
          "execution_count": 16
        }
      ]
    },
    {
      "cell_type": "code",
      "metadata": {
        "id": "8VmBIBooUH-a",
        "colab_type": "code",
        "colab": {}
      },
      "source": [
        ""
      ],
      "execution_count": 0,
      "outputs": []
    },
    {
      "cell_type": "markdown",
      "metadata": {
        "id": "o1fZyFIGUH-c",
        "colab_type": "text"
      },
      "source": [
        "## Experiment observations\n",
        "\n",
        "- What is the distribution of the gradients observed as we move from the output layer to the input layer for each experiment? \n",
        "\n",
        "- Might need to run for [Tensorboard](http://localhost:6006) to run:\n",
        "\n",
        "      pip install --upgrade grpcio\n",
        "\n",
        "- Look in [Tensorboard](http://localhost:6006) at distributions or histograms charts named `Layer_00_Input/kernel_0_grad`, `Layer_01_Hidden/kernel_0_grad`, etc. for different layers. You should see:\n",
        "    - Gradients are usually higher at the output layer and tend to decrease as you move backwards in the network.\n",
        "    - With sigmoid activations gradients are always low and rapidly decay from the output layer all the way to the input layer.\n",
        "    - Relu might still have some vanishing gradient when weights are <0.\n",
        "    - Leaky Relu would probably have constant gradients across layers.\n",
        "    \n",
        "\n",
        "- Recall that, in the backpropagation algorithm, the gradient of the loss function $L$ with respect to the weights at a certain layer $W_l$ is proportional to the derivatives and the weights of previous layers:\n",
        "\n",
        "$$\\frac{\\partial L}{\\partial W_l} \\propto f'(z^{(l)})\\cdot W_l \\cdot f'(z^{(l+1)})\\cdot W_{l+1} \\cdot f'(z^{(l+2)})\\cdot W_{l+2}...$$\n",
        "\n",
        "where $f'$ is the derivative of the activation function and $z^{(l)}$ is the output at layer $l$.\n",
        "\n",
        "- Do you think the sigmoid longrun would reach levels comparable to Relu or Leaky Relu? At what computational cost?\n"
      ]
    },
    {
      "cell_type": "markdown",
      "metadata": {
        "id": "KU8T3tlAUcic",
        "colab_type": "text"
      },
      "source": [
        "\n",
        "\n",
        "## Tensorboard in Colab\n"
      ]
    },
    {
      "cell_type": "code",
      "metadata": {
        "id": "zaw6jxz7UH-d",
        "colab_type": "code",
        "colab": {}
      },
      "source": [
        "try:\n",
        "  %load_ext tensorboard\n",
        "  %tensorboard --logdir log\n",
        "\n",
        "except:\n",
        "  print (\"not in colab\")"
      ],
      "execution_count": 0,
      "outputs": []
    },
    {
      "cell_type": "code",
      "metadata": {
        "id": "bX3PCKVIUn1Y",
        "colab_type": "code",
        "colab": {}
      },
      "source": [
        ""
      ],
      "execution_count": 0,
      "outputs": []
    }
  ]
}